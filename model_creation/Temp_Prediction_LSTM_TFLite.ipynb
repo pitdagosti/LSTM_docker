{
 "cells": [
  {
   "cell_type": "markdown",
   "id": "689acee7-6391-4e16-8667-befe0acdd5a0",
   "metadata": {
    "id": "c9b6d2f1-4639-44db-b564-9a4857c2f272"
   },
   "source": [
    "# LSTM Temperature Prediction\n",
    "- Using LSTM model with TFLite EI_SDK\n",
    "- Predicting temperature, 1 hour in the future\n",
    "- By Pietro D'Agostino @ September, 2024"
   ]
  },
  {
   "cell_type": "markdown",
   "id": "815115c2-052d-45be-9201-8713c77c81bc",
   "metadata": {
    "id": "815115c2-052d-45be-9201-8713c77c81bc"
   },
   "source": [
    "## Import Libraries"
   ]
  },
  {
   "cell_type": "code",
   "execution_count": 4,
   "id": "b1b7ddff-6327-4b26-9061-6539aa3ddfad",
   "metadata": {
    "id": "b1b7ddff-6327-4b26-9061-6539aa3ddfad",
    "tags": []
   },
   "outputs": [],
   "source": [
    "import numpy as np\n",
    "import pandas as pd\n",
    "import matplotlib.pyplot as plt\n",
    "from sklearn.preprocessing import MinMaxScaler\n",
    "import tensorflow as tf\n",
    "from tensorflow.keras.models import Sequential\n",
    "from tensorflow.keras.layers import LSTM, Dense\n",
    "from tensorflow.keras.callbacks import EarlyStopping"
   ]
  },
  {
   "cell_type": "code",
   "execution_count": 5,
   "id": "d0f0589a-cd2e-4091-91d8-5d9212f7e2bb",
   "metadata": {},
   "outputs": [
    {
     "name": "stderr",
     "output_type": "stream",
     "text": [
      "ERROR:root:Formato dei dati ricevuti non valido.\n"
     ]
    }
   ],
   "source": [
    "import logging\n",
    "import pandas as pd  # Importa la libreria pandas\n",
    "\n",
    "# Configura il logger\n",
    "logging.basicConfig(level=logging.ERROR)\n",
    "\n",
    "file_path = '../dati/50_sensors/0_report_total.txt'\n",
    "\n",
    "# Dizionario per conservare i dati delle temperature per ciascun nodo\n",
    "temperatures = {}\n",
    "\n",
    "try:\n",
    "    with open(file_path, 'r') as file:\n",
    "        logging.info('File aperto con successo.')\n",
    "\n",
    "        for line in file:\n",
    "            decoded_data = line.strip()\n",
    "\n",
    "            if not decoded_data:\n",
    "                continue\n",
    "\n",
    "            parts = decoded_data.split(';')\n",
    "            if len(parts) == 3:\n",
    "                try:\n",
    "                    node_name = parts[0]\n",
    "                    temperature_label = parts[1]\n",
    "                    temperatura_float = float(parts[2])\n",
    "\n",
    "                    if temperatura_float == 0.0:\n",
    "                        continue\n",
    "\n",
    "                    # Aggiungi la temperatura al dizionario\n",
    "                    if node_name not in temperatures:\n",
    "                        temperatures[node_name] = []\n",
    "                    \n",
    "                    temperatures[node_name].append(temperatura_float)\n",
    "\n",
    "                except ValueError as e:\n",
    "                    logging.error(f\"Errore nella conversione dei dati: {e}\")\n",
    "                    continue\n",
    "            else:\n",
    "                logging.error(\"Formato dei dati ricevuti non valido.\")\n",
    "                continue\n",
    "\n",
    "except FileNotFoundError as e:\n",
    "    logging.error(f\"File non trovato: {e}\")\n",
    "except Exception as e:\n",
    "    logging.error(f\"Errore imprevisto: {e}\")\n",
    "\n",
    "# Crea un DataFrame a partire dal dizionario delle temperature\n",
    "df = pd.DataFrame.from_dict(temperatures, orient='index').transpose()\n",
    "\n",
    "# Stampa le temperature di NODE_01\n",
    "node_to_print = 'NODE_01'\n",
    "if node_to_print in temperatures:\n",
    "    x = list(range(len(temperatures[node_to_print])))\n",
    "else:\n",
    "    print(f\"Nessun dato disponibile per {node_to_print}.\")\n"
   ]
  },
  {
   "cell_type": "markdown",
   "id": "34e68022-3dba-4dec-b1d2-7430e507212f",
   "metadata": {
    "id": "34e68022-3dba-4dec-b1d2-7430e507212f",
    "tags": []
   },
   "source": [
    "## Load the dataset"
   ]
  },
  {
   "cell_type": "code",
   "execution_count": 7,
   "id": "e2403a33-7d5e-4c18-8af9-9e8e5cfc252b",
   "metadata": {
    "colab": {
     "base_uri": "https://localhost:8080/"
    },
    "id": "e2403a33-7d5e-4c18-8af9-9e8e5cfc252b",
    "outputId": "7653e6ed-9d65-4640-ade4-6b99cb3eab95",
    "tags": []
   },
   "outputs": [
    {
     "data": {
      "text/plain": [
       "(43434, 49)"
      ]
     },
     "execution_count": 7,
     "metadata": {},
     "output_type": "execute_result"
    }
   ],
   "source": [
    "df.shape"
   ]
  },
  {
   "cell_type": "code",
   "execution_count": 8,
   "id": "4537cac4-f44d-49ec-85fb-f5816db1f233",
   "metadata": {
    "colab": {
     "base_uri": "https://localhost:8080/",
     "height": 206
    },
    "id": "4537cac4-f44d-49ec-85fb-f5816db1f233",
    "outputId": "323087ba-b096-4a37-93c5-4da7c6c7bb04"
   },
   "outputs": [
    {
     "data": {
      "text/html": [
       "<div>\n",
       "<style scoped>\n",
       "    .dataframe tbody tr th:only-of-type {\n",
       "        vertical-align: middle;\n",
       "    }\n",
       "\n",
       "    .dataframe tbody tr th {\n",
       "        vertical-align: top;\n",
       "    }\n",
       "\n",
       "    .dataframe thead th {\n",
       "        text-align: right;\n",
       "    }\n",
       "</style>\n",
       "<table border=\"1\" class=\"dataframe\">\n",
       "  <thead>\n",
       "    <tr style=\"text-align: right;\">\n",
       "      <th></th>\n",
       "      <th>NODE_15</th>\n",
       "      <th>NODE_17</th>\n",
       "      <th>NODE_08</th>\n",
       "      <th>NODE_13</th>\n",
       "      <th>NODE_10</th>\n",
       "      <th>NODE_35</th>\n",
       "      <th>NODE_26</th>\n",
       "      <th>NODE_22</th>\n",
       "      <th>NODE_19</th>\n",
       "      <th>NODE_37</th>\n",
       "      <th>...</th>\n",
       "      <th>NODE_25</th>\n",
       "      <th>NODE_12</th>\n",
       "      <th>NODE_24</th>\n",
       "      <th>NODE_27</th>\n",
       "      <th>NODE_06</th>\n",
       "      <th>NODE_33</th>\n",
       "      <th>NODE_44</th>\n",
       "      <th>NODE_41</th>\n",
       "      <th>NODE_36</th>\n",
       "      <th>NODE_29</th>\n",
       "    </tr>\n",
       "  </thead>\n",
       "  <tbody>\n",
       "    <tr>\n",
       "      <th>0</th>\n",
       "      <td>29.51</td>\n",
       "      <td>29.42</td>\n",
       "      <td>28.62</td>\n",
       "      <td>28.67</td>\n",
       "      <td>28.51</td>\n",
       "      <td>28.93</td>\n",
       "      <td>29.48</td>\n",
       "      <td>28.66</td>\n",
       "      <td>28.75</td>\n",
       "      <td>29.34</td>\n",
       "      <td>...</td>\n",
       "      <td>29.01</td>\n",
       "      <td>29.06</td>\n",
       "      <td>28.68</td>\n",
       "      <td>29.3</td>\n",
       "      <td>28.82</td>\n",
       "      <td>28.96</td>\n",
       "      <td>28.74</td>\n",
       "      <td>28.85</td>\n",
       "      <td>28.43</td>\n",
       "      <td>28.78</td>\n",
       "    </tr>\n",
       "    <tr>\n",
       "      <th>1</th>\n",
       "      <td>29.51</td>\n",
       "      <td>29.43</td>\n",
       "      <td>28.62</td>\n",
       "      <td>28.67</td>\n",
       "      <td>28.53</td>\n",
       "      <td>28.96</td>\n",
       "      <td>29.48</td>\n",
       "      <td>28.66</td>\n",
       "      <td>28.75</td>\n",
       "      <td>29.34</td>\n",
       "      <td>...</td>\n",
       "      <td>29.01</td>\n",
       "      <td>29.08</td>\n",
       "      <td>28.67</td>\n",
       "      <td>29.3</td>\n",
       "      <td>28.82</td>\n",
       "      <td>28.96</td>\n",
       "      <td>28.75</td>\n",
       "      <td>28.85</td>\n",
       "      <td>28.43</td>\n",
       "      <td>28.78</td>\n",
       "    </tr>\n",
       "    <tr>\n",
       "      <th>2</th>\n",
       "      <td>29.54</td>\n",
       "      <td>29.43</td>\n",
       "      <td>28.60</td>\n",
       "      <td>28.66</td>\n",
       "      <td>28.54</td>\n",
       "      <td>28.96</td>\n",
       "      <td>29.48</td>\n",
       "      <td>28.64</td>\n",
       "      <td>28.76</td>\n",
       "      <td>29.35</td>\n",
       "      <td>...</td>\n",
       "      <td>29.01</td>\n",
       "      <td>29.06</td>\n",
       "      <td>28.67</td>\n",
       "      <td>29.3</td>\n",
       "      <td>28.82</td>\n",
       "      <td>28.96</td>\n",
       "      <td>28.75</td>\n",
       "      <td>28.85</td>\n",
       "      <td>28.43</td>\n",
       "      <td>28.78</td>\n",
       "    </tr>\n",
       "    <tr>\n",
       "      <th>3</th>\n",
       "      <td>29.53</td>\n",
       "      <td>29.43</td>\n",
       "      <td>28.62</td>\n",
       "      <td>28.66</td>\n",
       "      <td>28.53</td>\n",
       "      <td>28.96</td>\n",
       "      <td>29.48</td>\n",
       "      <td>28.67</td>\n",
       "      <td>28.76</td>\n",
       "      <td>29.37</td>\n",
       "      <td>...</td>\n",
       "      <td>29.01</td>\n",
       "      <td>29.06</td>\n",
       "      <td>28.66</td>\n",
       "      <td>29.3</td>\n",
       "      <td>28.82</td>\n",
       "      <td>28.96</td>\n",
       "      <td>28.75</td>\n",
       "      <td>28.85</td>\n",
       "      <td>28.43</td>\n",
       "      <td>28.78</td>\n",
       "    </tr>\n",
       "    <tr>\n",
       "      <th>4</th>\n",
       "      <td>29.54</td>\n",
       "      <td>29.43</td>\n",
       "      <td>28.62</td>\n",
       "      <td>28.66</td>\n",
       "      <td>28.54</td>\n",
       "      <td>28.96</td>\n",
       "      <td>29.48</td>\n",
       "      <td>28.65</td>\n",
       "      <td>28.76</td>\n",
       "      <td>29.37</td>\n",
       "      <td>...</td>\n",
       "      <td>29.01</td>\n",
       "      <td>29.06</td>\n",
       "      <td>28.66</td>\n",
       "      <td>29.3</td>\n",
       "      <td>28.82</td>\n",
       "      <td>28.96</td>\n",
       "      <td>28.75</td>\n",
       "      <td>28.85</td>\n",
       "      <td>28.43</td>\n",
       "      <td>28.78</td>\n",
       "    </tr>\n",
       "  </tbody>\n",
       "</table>\n",
       "<p>5 rows × 49 columns</p>\n",
       "</div>"
      ],
      "text/plain": [
       "   NODE_15  NODE_17  NODE_08  NODE_13  NODE_10  NODE_35  NODE_26  NODE_22  \\\n",
       "0    29.51    29.42    28.62    28.67    28.51    28.93    29.48    28.66   \n",
       "1    29.51    29.43    28.62    28.67    28.53    28.96    29.48    28.66   \n",
       "2    29.54    29.43    28.60    28.66    28.54    28.96    29.48    28.64   \n",
       "3    29.53    29.43    28.62    28.66    28.53    28.96    29.48    28.67   \n",
       "4    29.54    29.43    28.62    28.66    28.54    28.96    29.48    28.65   \n",
       "\n",
       "   NODE_19  NODE_37  ...  NODE_25  NODE_12  NODE_24  NODE_27  NODE_06  \\\n",
       "0    28.75    29.34  ...    29.01    29.06    28.68     29.3    28.82   \n",
       "1    28.75    29.34  ...    29.01    29.08    28.67     29.3    28.82   \n",
       "2    28.76    29.35  ...    29.01    29.06    28.67     29.3    28.82   \n",
       "3    28.76    29.37  ...    29.01    29.06    28.66     29.3    28.82   \n",
       "4    28.76    29.37  ...    29.01    29.06    28.66     29.3    28.82   \n",
       "\n",
       "   NODE_33  NODE_44  NODE_41  NODE_36  NODE_29  \n",
       "0    28.96    28.74    28.85    28.43    28.78  \n",
       "1    28.96    28.75    28.85    28.43    28.78  \n",
       "2    28.96    28.75    28.85    28.43    28.78  \n",
       "3    28.96    28.75    28.85    28.43    28.78  \n",
       "4    28.96    28.75    28.85    28.43    28.78  \n",
       "\n",
       "[5 rows x 49 columns]"
      ]
     },
     "execution_count": 8,
     "metadata": {},
     "output_type": "execute_result"
    }
   ],
   "source": [
    "df.head()"
   ]
  },
  {
   "cell_type": "code",
   "execution_count": 9,
   "id": "d19b0034-3776-477e-8dff-694c5cc5808d",
   "metadata": {
    "colab": {
     "base_uri": "https://localhost:8080/",
     "height": 597
    },
    "id": "d19b0034-3776-477e-8dff-694c5cc5808d",
    "outputId": "3925055f-8adb-439c-999e-1f3998fd137a",
    "tags": []
   },
   "outputs": [
    {
     "data": {
      "text/html": [
       "<div>\n",
       "<style scoped>\n",
       "    .dataframe tbody tr th:only-of-type {\n",
       "        vertical-align: middle;\n",
       "    }\n",
       "\n",
       "    .dataframe tbody tr th {\n",
       "        vertical-align: top;\n",
       "    }\n",
       "\n",
       "    .dataframe thead th {\n",
       "        text-align: right;\n",
       "    }\n",
       "</style>\n",
       "<table border=\"1\" class=\"dataframe\">\n",
       "  <thead>\n",
       "    <tr style=\"text-align: right;\">\n",
       "      <th></th>\n",
       "      <th>NODE_15</th>\n",
       "      <th>NODE_17</th>\n",
       "      <th>NODE_08</th>\n",
       "      <th>NODE_13</th>\n",
       "      <th>NODE_10</th>\n",
       "      <th>NODE_35</th>\n",
       "      <th>NODE_26</th>\n",
       "      <th>NODE_22</th>\n",
       "      <th>NODE_19</th>\n",
       "      <th>NODE_37</th>\n",
       "      <th>...</th>\n",
       "      <th>NODE_25</th>\n",
       "      <th>NODE_12</th>\n",
       "      <th>NODE_24</th>\n",
       "      <th>NODE_27</th>\n",
       "      <th>NODE_06</th>\n",
       "      <th>NODE_33</th>\n",
       "      <th>NODE_44</th>\n",
       "      <th>NODE_41</th>\n",
       "      <th>NODE_36</th>\n",
       "      <th>NODE_29</th>\n",
       "    </tr>\n",
       "  </thead>\n",
       "  <tbody>\n",
       "    <tr>\n",
       "      <th>0</th>\n",
       "      <td>29.51</td>\n",
       "      <td>29.42</td>\n",
       "      <td>28.62</td>\n",
       "      <td>28.67</td>\n",
       "      <td>28.51</td>\n",
       "      <td>28.93</td>\n",
       "      <td>29.48</td>\n",
       "      <td>28.66</td>\n",
       "      <td>28.75</td>\n",
       "      <td>29.34</td>\n",
       "      <td>...</td>\n",
       "      <td>29.01</td>\n",
       "      <td>29.06</td>\n",
       "      <td>28.68</td>\n",
       "      <td>29.3</td>\n",
       "      <td>28.82</td>\n",
       "      <td>28.96</td>\n",
       "      <td>28.74</td>\n",
       "      <td>28.85</td>\n",
       "      <td>28.43</td>\n",
       "      <td>28.78</td>\n",
       "    </tr>\n",
       "    <tr>\n",
       "      <th>1</th>\n",
       "      <td>29.51</td>\n",
       "      <td>29.43</td>\n",
       "      <td>28.62</td>\n",
       "      <td>28.67</td>\n",
       "      <td>28.53</td>\n",
       "      <td>28.96</td>\n",
       "      <td>29.48</td>\n",
       "      <td>28.66</td>\n",
       "      <td>28.75</td>\n",
       "      <td>29.34</td>\n",
       "      <td>...</td>\n",
       "      <td>29.01</td>\n",
       "      <td>29.08</td>\n",
       "      <td>28.67</td>\n",
       "      <td>29.3</td>\n",
       "      <td>28.82</td>\n",
       "      <td>28.96</td>\n",
       "      <td>28.75</td>\n",
       "      <td>28.85</td>\n",
       "      <td>28.43</td>\n",
       "      <td>28.78</td>\n",
       "    </tr>\n",
       "    <tr>\n",
       "      <th>2</th>\n",
       "      <td>29.54</td>\n",
       "      <td>29.43</td>\n",
       "      <td>28.60</td>\n",
       "      <td>28.66</td>\n",
       "      <td>28.54</td>\n",
       "      <td>28.96</td>\n",
       "      <td>29.48</td>\n",
       "      <td>28.64</td>\n",
       "      <td>28.76</td>\n",
       "      <td>29.35</td>\n",
       "      <td>...</td>\n",
       "      <td>29.01</td>\n",
       "      <td>29.06</td>\n",
       "      <td>28.67</td>\n",
       "      <td>29.3</td>\n",
       "      <td>28.82</td>\n",
       "      <td>28.96</td>\n",
       "      <td>28.75</td>\n",
       "      <td>28.85</td>\n",
       "      <td>28.43</td>\n",
       "      <td>28.78</td>\n",
       "    </tr>\n",
       "    <tr>\n",
       "      <th>3</th>\n",
       "      <td>29.53</td>\n",
       "      <td>29.43</td>\n",
       "      <td>28.62</td>\n",
       "      <td>28.66</td>\n",
       "      <td>28.53</td>\n",
       "      <td>28.96</td>\n",
       "      <td>29.48</td>\n",
       "      <td>28.67</td>\n",
       "      <td>28.76</td>\n",
       "      <td>29.37</td>\n",
       "      <td>...</td>\n",
       "      <td>29.01</td>\n",
       "      <td>29.06</td>\n",
       "      <td>28.66</td>\n",
       "      <td>29.3</td>\n",
       "      <td>28.82</td>\n",
       "      <td>28.96</td>\n",
       "      <td>28.75</td>\n",
       "      <td>28.85</td>\n",
       "      <td>28.43</td>\n",
       "      <td>28.78</td>\n",
       "    </tr>\n",
       "    <tr>\n",
       "      <th>4</th>\n",
       "      <td>29.54</td>\n",
       "      <td>29.43</td>\n",
       "      <td>28.62</td>\n",
       "      <td>28.66</td>\n",
       "      <td>28.54</td>\n",
       "      <td>28.96</td>\n",
       "      <td>29.48</td>\n",
       "      <td>28.65</td>\n",
       "      <td>28.76</td>\n",
       "      <td>29.37</td>\n",
       "      <td>...</td>\n",
       "      <td>29.01</td>\n",
       "      <td>29.06</td>\n",
       "      <td>28.66</td>\n",
       "      <td>29.3</td>\n",
       "      <td>28.82</td>\n",
       "      <td>28.96</td>\n",
       "      <td>28.75</td>\n",
       "      <td>28.85</td>\n",
       "      <td>28.43</td>\n",
       "      <td>28.78</td>\n",
       "    </tr>\n",
       "    <tr>\n",
       "      <th>...</th>\n",
       "      <td>...</td>\n",
       "      <td>...</td>\n",
       "      <td>...</td>\n",
       "      <td>...</td>\n",
       "      <td>...</td>\n",
       "      <td>...</td>\n",
       "      <td>...</td>\n",
       "      <td>...</td>\n",
       "      <td>...</td>\n",
       "      <td>...</td>\n",
       "      <td>...</td>\n",
       "      <td>...</td>\n",
       "      <td>...</td>\n",
       "      <td>...</td>\n",
       "      <td>...</td>\n",
       "      <td>...</td>\n",
       "      <td>...</td>\n",
       "      <td>...</td>\n",
       "      <td>...</td>\n",
       "      <td>...</td>\n",
       "      <td>...</td>\n",
       "    </tr>\n",
       "    <tr>\n",
       "      <th>43429</th>\n",
       "      <td>NaN</td>\n",
       "      <td>NaN</td>\n",
       "      <td>NaN</td>\n",
       "      <td>NaN</td>\n",
       "      <td>NaN</td>\n",
       "      <td>NaN</td>\n",
       "      <td>NaN</td>\n",
       "      <td>NaN</td>\n",
       "      <td>NaN</td>\n",
       "      <td>NaN</td>\n",
       "      <td>...</td>\n",
       "      <td>NaN</td>\n",
       "      <td>NaN</td>\n",
       "      <td>NaN</td>\n",
       "      <td>NaN</td>\n",
       "      <td>NaN</td>\n",
       "      <td>NaN</td>\n",
       "      <td>NaN</td>\n",
       "      <td>NaN</td>\n",
       "      <td>NaN</td>\n",
       "      <td>NaN</td>\n",
       "    </tr>\n",
       "    <tr>\n",
       "      <th>43430</th>\n",
       "      <td>NaN</td>\n",
       "      <td>NaN</td>\n",
       "      <td>NaN</td>\n",
       "      <td>NaN</td>\n",
       "      <td>NaN</td>\n",
       "      <td>NaN</td>\n",
       "      <td>NaN</td>\n",
       "      <td>NaN</td>\n",
       "      <td>NaN</td>\n",
       "      <td>NaN</td>\n",
       "      <td>...</td>\n",
       "      <td>NaN</td>\n",
       "      <td>NaN</td>\n",
       "      <td>NaN</td>\n",
       "      <td>NaN</td>\n",
       "      <td>NaN</td>\n",
       "      <td>NaN</td>\n",
       "      <td>NaN</td>\n",
       "      <td>NaN</td>\n",
       "      <td>NaN</td>\n",
       "      <td>NaN</td>\n",
       "    </tr>\n",
       "    <tr>\n",
       "      <th>43431</th>\n",
       "      <td>NaN</td>\n",
       "      <td>NaN</td>\n",
       "      <td>NaN</td>\n",
       "      <td>NaN</td>\n",
       "      <td>NaN</td>\n",
       "      <td>NaN</td>\n",
       "      <td>NaN</td>\n",
       "      <td>NaN</td>\n",
       "      <td>NaN</td>\n",
       "      <td>NaN</td>\n",
       "      <td>...</td>\n",
       "      <td>NaN</td>\n",
       "      <td>NaN</td>\n",
       "      <td>NaN</td>\n",
       "      <td>NaN</td>\n",
       "      <td>NaN</td>\n",
       "      <td>NaN</td>\n",
       "      <td>NaN</td>\n",
       "      <td>NaN</td>\n",
       "      <td>NaN</td>\n",
       "      <td>NaN</td>\n",
       "    </tr>\n",
       "    <tr>\n",
       "      <th>43432</th>\n",
       "      <td>NaN</td>\n",
       "      <td>NaN</td>\n",
       "      <td>NaN</td>\n",
       "      <td>NaN</td>\n",
       "      <td>NaN</td>\n",
       "      <td>NaN</td>\n",
       "      <td>NaN</td>\n",
       "      <td>NaN</td>\n",
       "      <td>NaN</td>\n",
       "      <td>NaN</td>\n",
       "      <td>...</td>\n",
       "      <td>NaN</td>\n",
       "      <td>NaN</td>\n",
       "      <td>NaN</td>\n",
       "      <td>NaN</td>\n",
       "      <td>NaN</td>\n",
       "      <td>NaN</td>\n",
       "      <td>NaN</td>\n",
       "      <td>NaN</td>\n",
       "      <td>NaN</td>\n",
       "      <td>NaN</td>\n",
       "    </tr>\n",
       "    <tr>\n",
       "      <th>43433</th>\n",
       "      <td>NaN</td>\n",
       "      <td>NaN</td>\n",
       "      <td>NaN</td>\n",
       "      <td>NaN</td>\n",
       "      <td>NaN</td>\n",
       "      <td>NaN</td>\n",
       "      <td>NaN</td>\n",
       "      <td>NaN</td>\n",
       "      <td>NaN</td>\n",
       "      <td>NaN</td>\n",
       "      <td>...</td>\n",
       "      <td>NaN</td>\n",
       "      <td>NaN</td>\n",
       "      <td>NaN</td>\n",
       "      <td>NaN</td>\n",
       "      <td>NaN</td>\n",
       "      <td>NaN</td>\n",
       "      <td>NaN</td>\n",
       "      <td>NaN</td>\n",
       "      <td>NaN</td>\n",
       "      <td>NaN</td>\n",
       "    </tr>\n",
       "  </tbody>\n",
       "</table>\n",
       "<p>43434 rows × 49 columns</p>\n",
       "</div>"
      ],
      "text/plain": [
       "       NODE_15  NODE_17  NODE_08  NODE_13  NODE_10  NODE_35  NODE_26  NODE_22  \\\n",
       "0        29.51    29.42    28.62    28.67    28.51    28.93    29.48    28.66   \n",
       "1        29.51    29.43    28.62    28.67    28.53    28.96    29.48    28.66   \n",
       "2        29.54    29.43    28.60    28.66    28.54    28.96    29.48    28.64   \n",
       "3        29.53    29.43    28.62    28.66    28.53    28.96    29.48    28.67   \n",
       "4        29.54    29.43    28.62    28.66    28.54    28.96    29.48    28.65   \n",
       "...        ...      ...      ...      ...      ...      ...      ...      ...   \n",
       "43429      NaN      NaN      NaN      NaN      NaN      NaN      NaN      NaN   \n",
       "43430      NaN      NaN      NaN      NaN      NaN      NaN      NaN      NaN   \n",
       "43431      NaN      NaN      NaN      NaN      NaN      NaN      NaN      NaN   \n",
       "43432      NaN      NaN      NaN      NaN      NaN      NaN      NaN      NaN   \n",
       "43433      NaN      NaN      NaN      NaN      NaN      NaN      NaN      NaN   \n",
       "\n",
       "       NODE_19  NODE_37  ...  NODE_25  NODE_12  NODE_24  NODE_27  NODE_06  \\\n",
       "0        28.75    29.34  ...    29.01    29.06    28.68     29.3    28.82   \n",
       "1        28.75    29.34  ...    29.01    29.08    28.67     29.3    28.82   \n",
       "2        28.76    29.35  ...    29.01    29.06    28.67     29.3    28.82   \n",
       "3        28.76    29.37  ...    29.01    29.06    28.66     29.3    28.82   \n",
       "4        28.76    29.37  ...    29.01    29.06    28.66     29.3    28.82   \n",
       "...        ...      ...  ...      ...      ...      ...      ...      ...   \n",
       "43429      NaN      NaN  ...      NaN      NaN      NaN      NaN      NaN   \n",
       "43430      NaN      NaN  ...      NaN      NaN      NaN      NaN      NaN   \n",
       "43431      NaN      NaN  ...      NaN      NaN      NaN      NaN      NaN   \n",
       "43432      NaN      NaN  ...      NaN      NaN      NaN      NaN      NaN   \n",
       "43433      NaN      NaN  ...      NaN      NaN      NaN      NaN      NaN   \n",
       "\n",
       "       NODE_33  NODE_44  NODE_41  NODE_36  NODE_29  \n",
       "0        28.96    28.74    28.85    28.43    28.78  \n",
       "1        28.96    28.75    28.85    28.43    28.78  \n",
       "2        28.96    28.75    28.85    28.43    28.78  \n",
       "3        28.96    28.75    28.85    28.43    28.78  \n",
       "4        28.96    28.75    28.85    28.43    28.78  \n",
       "...        ...      ...      ...      ...      ...  \n",
       "43429      NaN      NaN      NaN      NaN      NaN  \n",
       "43430      NaN      NaN      NaN      NaN      NaN  \n",
       "43431      NaN      NaN      NaN      NaN      NaN  \n",
       "43432      NaN      NaN      NaN      NaN      NaN  \n",
       "43433      NaN      NaN      NaN      NaN      NaN  \n",
       "\n",
       "[43434 rows x 49 columns]"
      ]
     },
     "execution_count": 9,
     "metadata": {},
     "output_type": "execute_result"
    }
   ],
   "source": [
    "df"
   ]
  },
  {
   "cell_type": "code",
   "execution_count": 10,
   "id": "cf2eddad-7f9b-4c33-9734-4256837ac8ef",
   "metadata": {
    "colab": {
     "base_uri": "https://localhost:8080/"
    },
    "id": "cf2eddad-7f9b-4c33-9734-4256837ac8ef",
    "outputId": "60b4cd62-7ac0-4dd2-d7db-136b6104a290",
    "tags": []
   },
   "outputs": [
    {
     "name": "stdout",
     "output_type": "stream",
     "text": [
      "<class 'pandas.core.frame.DataFrame'>\n",
      "RangeIndex: 43434 entries, 0 to 43433\n",
      "Data columns (total 49 columns):\n",
      " #   Column   Non-Null Count  Dtype  \n",
      "---  ------   --------------  -----  \n",
      " 0   NODE_15  10554 non-null  float64\n",
      " 1   NODE_17  10971 non-null  float64\n",
      " 2   NODE_08  11046 non-null  float64\n",
      " 3   NODE_13  11081 non-null  float64\n",
      " 4   NODE_10  10656 non-null  float64\n",
      " 5   NODE_35  11381 non-null  float64\n",
      " 6   NODE_26  11119 non-null  float64\n",
      " 7   NODE_22  2213 non-null   float64\n",
      " 8   NODE_19  11431 non-null  float64\n",
      " 9   NODE_37  11090 non-null  float64\n",
      " 10  NODE_38  12039 non-null  float64\n",
      " 11  NODE_50  10750 non-null  float64\n",
      " 12  NODE_28  11559 non-null  float64\n",
      " 13  NODE_02  43434 non-null  float64\n",
      " 14  NODE_43  9290 non-null   float64\n",
      " 15  NODE_04  10564 non-null  float64\n",
      " 16  NODE_09  11368 non-null  float64\n",
      " 17  NODE_39  11572 non-null  float64\n",
      " 18  NODE_48  11018 non-null  float64\n",
      " 19  NODE_49  10518 non-null  float64\n",
      " 20  NODE_46  10779 non-null  float64\n",
      " 21  NODE_03  32203 non-null  float64\n",
      " 22  NODE_16  10895 non-null  float64\n",
      " 23  NODE_18  11113 non-null  float64\n",
      " 24  NODE_40  11275 non-null  float64\n",
      " 25  NODE_31  10706 non-null  float64\n",
      " 26  NODE_14  11701 non-null  float64\n",
      " 27  NODE_21  11456 non-null  float64\n",
      " 28  NODE_34  11169 non-null  float64\n",
      " 29  NODE_47  11199 non-null  float64\n",
      " 30  NODE_01  42832 non-null  float64\n",
      " 31  NODE_30  10955 non-null  float64\n",
      " 32  NODE_20  11207 non-null  float64\n",
      " 33  NODE_42  10532 non-null  float64\n",
      " 34  NODE_07  10700 non-null  float64\n",
      " 35  NODE_11  10864 non-null  float64\n",
      " 36  NODE_32  11108 non-null  float64\n",
      " 37  NODE_45  11198 non-null  float64\n",
      " 38  NODE_23  3985 non-null   float64\n",
      " 39  NODE_25  3957 non-null   float64\n",
      " 40  NODE_12  4046 non-null   float64\n",
      " 41  NODE_24  11592 non-null  float64\n",
      " 42  NODE_27  4165 non-null   float64\n",
      " 43  NODE_06  3606 non-null   float64\n",
      " 44  NODE_33  10921 non-null  float64\n",
      " 45  NODE_44  3785 non-null   float64\n",
      " 46  NODE_41  9031 non-null   float64\n",
      " 47  NODE_36  3747 non-null   float64\n",
      " 48  NODE_29  4152 non-null   float64\n",
      "dtypes: float64(49)\n",
      "memory usage: 16.2 MB\n"
     ]
    }
   ],
   "source": [
    "df.info()"
   ]
  },
  {
   "cell_type": "code",
   "execution_count": 11,
   "id": "29f53d00-40dc-47d7-a887-09787dfc4aaf",
   "metadata": {
    "colab": {
     "base_uri": "https://localhost:8080/"
    },
    "id": "29f53d00-40dc-47d7-a887-09787dfc4aaf",
    "outputId": "7876cfc3-e6b6-4b0a-f5e7-8c15cd83f50a",
    "tags": []
   },
   "outputs": [
    {
     "data": {
      "text/plain": [
       "NODE_15    32880\n",
       "NODE_17    32463\n",
       "NODE_08    32388\n",
       "NODE_13    32353\n",
       "NODE_10    32778\n",
       "NODE_35    32053\n",
       "NODE_26    32315\n",
       "NODE_22    41221\n",
       "NODE_19    32003\n",
       "NODE_37    32344\n",
       "NODE_38    31395\n",
       "NODE_50    32684\n",
       "NODE_28    31875\n",
       "NODE_02        0\n",
       "NODE_43    34144\n",
       "NODE_04    32870\n",
       "NODE_09    32066\n",
       "NODE_39    31862\n",
       "NODE_48    32416\n",
       "NODE_49    32916\n",
       "NODE_46    32655\n",
       "NODE_03    11231\n",
       "NODE_16    32539\n",
       "NODE_18    32321\n",
       "NODE_40    32159\n",
       "NODE_31    32728\n",
       "NODE_14    31733\n",
       "NODE_21    31978\n",
       "NODE_34    32265\n",
       "NODE_47    32235\n",
       "NODE_01      602\n",
       "NODE_30    32479\n",
       "NODE_20    32227\n",
       "NODE_42    32902\n",
       "NODE_07    32734\n",
       "NODE_11    32570\n",
       "NODE_32    32326\n",
       "NODE_45    32236\n",
       "NODE_23    39449\n",
       "NODE_25    39477\n",
       "NODE_12    39388\n",
       "NODE_24    31842\n",
       "NODE_27    39269\n",
       "NODE_06    39828\n",
       "NODE_33    32513\n",
       "NODE_44    39649\n",
       "NODE_41    34403\n",
       "NODE_36    39687\n",
       "NODE_29    39282\n",
       "dtype: int64"
      ]
     },
     "execution_count": 11,
     "metadata": {},
     "output_type": "execute_result"
    }
   ],
   "source": [
    "# Verify if there is any NaN\n",
    "df.isna().sum()"
   ]
  },
  {
   "cell_type": "code",
   "execution_count": 12,
   "id": "I6hF10OGHrgG",
   "metadata": {
    "colab": {
     "base_uri": "https://localhost:8080/",
     "height": 98
    },
    "id": "I6hF10OGHrgG",
    "outputId": "febd110f-37dd-4587-ea87-b69032b2342c"
   },
   "outputs": [
    {
     "data": {
      "text/html": [
       "<div>\n",
       "<style scoped>\n",
       "    .dataframe tbody tr th:only-of-type {\n",
       "        vertical-align: middle;\n",
       "    }\n",
       "\n",
       "    .dataframe tbody tr th {\n",
       "        vertical-align: top;\n",
       "    }\n",
       "\n",
       "    .dataframe thead th {\n",
       "        text-align: right;\n",
       "    }\n",
       "</style>\n",
       "<table border=\"1\" class=\"dataframe\">\n",
       "  <thead>\n",
       "    <tr style=\"text-align: right;\">\n",
       "      <th></th>\n",
       "      <th>NODE_15</th>\n",
       "      <th>NODE_17</th>\n",
       "      <th>NODE_08</th>\n",
       "      <th>NODE_13</th>\n",
       "      <th>NODE_10</th>\n",
       "      <th>NODE_35</th>\n",
       "      <th>NODE_26</th>\n",
       "      <th>NODE_22</th>\n",
       "      <th>NODE_19</th>\n",
       "      <th>NODE_37</th>\n",
       "      <th>...</th>\n",
       "      <th>NODE_25</th>\n",
       "      <th>NODE_12</th>\n",
       "      <th>NODE_24</th>\n",
       "      <th>NODE_27</th>\n",
       "      <th>NODE_06</th>\n",
       "      <th>NODE_33</th>\n",
       "      <th>NODE_44</th>\n",
       "      <th>NODE_41</th>\n",
       "      <th>NODE_36</th>\n",
       "      <th>NODE_29</th>\n",
       "    </tr>\n",
       "  </thead>\n",
       "  <tbody>\n",
       "    <tr>\n",
       "      <th>2213</th>\n",
       "      <td>30.67</td>\n",
       "      <td>30.70</td>\n",
       "      <td>29.93</td>\n",
       "      <td>30.0</td>\n",
       "      <td>29.82</td>\n",
       "      <td>30.26</td>\n",
       "      <td>30.4</td>\n",
       "      <td>NaN</td>\n",
       "      <td>29.82</td>\n",
       "      <td>30.46</td>\n",
       "      <td>...</td>\n",
       "      <td>30.3</td>\n",
       "      <td>30.82</td>\n",
       "      <td>29.95</td>\n",
       "      <td>30.54</td>\n",
       "      <td>30.1</td>\n",
       "      <td>30.15</td>\n",
       "      <td>29.88</td>\n",
       "      <td>30.04</td>\n",
       "      <td>29.35</td>\n",
       "      <td>29.89</td>\n",
       "    </tr>\n",
       "    <tr>\n",
       "      <th>2214</th>\n",
       "      <td>30.67</td>\n",
       "      <td>30.70</td>\n",
       "      <td>29.93</td>\n",
       "      <td>30.0</td>\n",
       "      <td>29.82</td>\n",
       "      <td>30.26</td>\n",
       "      <td>30.4</td>\n",
       "      <td>NaN</td>\n",
       "      <td>29.82</td>\n",
       "      <td>30.46</td>\n",
       "      <td>...</td>\n",
       "      <td>30.3</td>\n",
       "      <td>30.82</td>\n",
       "      <td>29.95</td>\n",
       "      <td>30.54</td>\n",
       "      <td>30.1</td>\n",
       "      <td>30.15</td>\n",
       "      <td>29.88</td>\n",
       "      <td>30.04</td>\n",
       "      <td>29.34</td>\n",
       "      <td>29.89</td>\n",
       "    </tr>\n",
       "    <tr>\n",
       "      <th>2215</th>\n",
       "      <td>30.67</td>\n",
       "      <td>30.70</td>\n",
       "      <td>29.93</td>\n",
       "      <td>30.0</td>\n",
       "      <td>29.82</td>\n",
       "      <td>30.26</td>\n",
       "      <td>30.4</td>\n",
       "      <td>NaN</td>\n",
       "      <td>29.82</td>\n",
       "      <td>30.46</td>\n",
       "      <td>...</td>\n",
       "      <td>30.3</td>\n",
       "      <td>30.82</td>\n",
       "      <td>29.95</td>\n",
       "      <td>30.53</td>\n",
       "      <td>30.1</td>\n",
       "      <td>30.15</td>\n",
       "      <td>29.88</td>\n",
       "      <td>30.04</td>\n",
       "      <td>29.34</td>\n",
       "      <td>29.89</td>\n",
       "    </tr>\n",
       "    <tr>\n",
       "      <th>2216</th>\n",
       "      <td>30.67</td>\n",
       "      <td>30.70</td>\n",
       "      <td>29.93</td>\n",
       "      <td>30.0</td>\n",
       "      <td>29.82</td>\n",
       "      <td>30.26</td>\n",
       "      <td>30.4</td>\n",
       "      <td>NaN</td>\n",
       "      <td>29.82</td>\n",
       "      <td>30.46</td>\n",
       "      <td>...</td>\n",
       "      <td>30.3</td>\n",
       "      <td>30.82</td>\n",
       "      <td>29.96</td>\n",
       "      <td>30.53</td>\n",
       "      <td>30.1</td>\n",
       "      <td>30.15</td>\n",
       "      <td>29.88</td>\n",
       "      <td>30.04</td>\n",
       "      <td>29.34</td>\n",
       "      <td>29.89</td>\n",
       "    </tr>\n",
       "    <tr>\n",
       "      <th>2217</th>\n",
       "      <td>30.67</td>\n",
       "      <td>30.68</td>\n",
       "      <td>29.93</td>\n",
       "      <td>30.0</td>\n",
       "      <td>29.82</td>\n",
       "      <td>30.26</td>\n",
       "      <td>30.4</td>\n",
       "      <td>NaN</td>\n",
       "      <td>29.82</td>\n",
       "      <td>30.46</td>\n",
       "      <td>...</td>\n",
       "      <td>30.3</td>\n",
       "      <td>30.83</td>\n",
       "      <td>29.96</td>\n",
       "      <td>30.53</td>\n",
       "      <td>30.1</td>\n",
       "      <td>30.15</td>\n",
       "      <td>29.88</td>\n",
       "      <td>30.04</td>\n",
       "      <td>29.34</td>\n",
       "      <td>29.89</td>\n",
       "    </tr>\n",
       "    <tr>\n",
       "      <th>...</th>\n",
       "      <td>...</td>\n",
       "      <td>...</td>\n",
       "      <td>...</td>\n",
       "      <td>...</td>\n",
       "      <td>...</td>\n",
       "      <td>...</td>\n",
       "      <td>...</td>\n",
       "      <td>...</td>\n",
       "      <td>...</td>\n",
       "      <td>...</td>\n",
       "      <td>...</td>\n",
       "      <td>...</td>\n",
       "      <td>...</td>\n",
       "      <td>...</td>\n",
       "      <td>...</td>\n",
       "      <td>...</td>\n",
       "      <td>...</td>\n",
       "      <td>...</td>\n",
       "      <td>...</td>\n",
       "      <td>...</td>\n",
       "      <td>...</td>\n",
       "    </tr>\n",
       "    <tr>\n",
       "      <th>43429</th>\n",
       "      <td>NaN</td>\n",
       "      <td>NaN</td>\n",
       "      <td>NaN</td>\n",
       "      <td>NaN</td>\n",
       "      <td>NaN</td>\n",
       "      <td>NaN</td>\n",
       "      <td>NaN</td>\n",
       "      <td>NaN</td>\n",
       "      <td>NaN</td>\n",
       "      <td>NaN</td>\n",
       "      <td>...</td>\n",
       "      <td>NaN</td>\n",
       "      <td>NaN</td>\n",
       "      <td>NaN</td>\n",
       "      <td>NaN</td>\n",
       "      <td>NaN</td>\n",
       "      <td>NaN</td>\n",
       "      <td>NaN</td>\n",
       "      <td>NaN</td>\n",
       "      <td>NaN</td>\n",
       "      <td>NaN</td>\n",
       "    </tr>\n",
       "    <tr>\n",
       "      <th>43430</th>\n",
       "      <td>NaN</td>\n",
       "      <td>NaN</td>\n",
       "      <td>NaN</td>\n",
       "      <td>NaN</td>\n",
       "      <td>NaN</td>\n",
       "      <td>NaN</td>\n",
       "      <td>NaN</td>\n",
       "      <td>NaN</td>\n",
       "      <td>NaN</td>\n",
       "      <td>NaN</td>\n",
       "      <td>...</td>\n",
       "      <td>NaN</td>\n",
       "      <td>NaN</td>\n",
       "      <td>NaN</td>\n",
       "      <td>NaN</td>\n",
       "      <td>NaN</td>\n",
       "      <td>NaN</td>\n",
       "      <td>NaN</td>\n",
       "      <td>NaN</td>\n",
       "      <td>NaN</td>\n",
       "      <td>NaN</td>\n",
       "    </tr>\n",
       "    <tr>\n",
       "      <th>43431</th>\n",
       "      <td>NaN</td>\n",
       "      <td>NaN</td>\n",
       "      <td>NaN</td>\n",
       "      <td>NaN</td>\n",
       "      <td>NaN</td>\n",
       "      <td>NaN</td>\n",
       "      <td>NaN</td>\n",
       "      <td>NaN</td>\n",
       "      <td>NaN</td>\n",
       "      <td>NaN</td>\n",
       "      <td>...</td>\n",
       "      <td>NaN</td>\n",
       "      <td>NaN</td>\n",
       "      <td>NaN</td>\n",
       "      <td>NaN</td>\n",
       "      <td>NaN</td>\n",
       "      <td>NaN</td>\n",
       "      <td>NaN</td>\n",
       "      <td>NaN</td>\n",
       "      <td>NaN</td>\n",
       "      <td>NaN</td>\n",
       "    </tr>\n",
       "    <tr>\n",
       "      <th>43432</th>\n",
       "      <td>NaN</td>\n",
       "      <td>NaN</td>\n",
       "      <td>NaN</td>\n",
       "      <td>NaN</td>\n",
       "      <td>NaN</td>\n",
       "      <td>NaN</td>\n",
       "      <td>NaN</td>\n",
       "      <td>NaN</td>\n",
       "      <td>NaN</td>\n",
       "      <td>NaN</td>\n",
       "      <td>...</td>\n",
       "      <td>NaN</td>\n",
       "      <td>NaN</td>\n",
       "      <td>NaN</td>\n",
       "      <td>NaN</td>\n",
       "      <td>NaN</td>\n",
       "      <td>NaN</td>\n",
       "      <td>NaN</td>\n",
       "      <td>NaN</td>\n",
       "      <td>NaN</td>\n",
       "      <td>NaN</td>\n",
       "    </tr>\n",
       "    <tr>\n",
       "      <th>43433</th>\n",
       "      <td>NaN</td>\n",
       "      <td>NaN</td>\n",
       "      <td>NaN</td>\n",
       "      <td>NaN</td>\n",
       "      <td>NaN</td>\n",
       "      <td>NaN</td>\n",
       "      <td>NaN</td>\n",
       "      <td>NaN</td>\n",
       "      <td>NaN</td>\n",
       "      <td>NaN</td>\n",
       "      <td>...</td>\n",
       "      <td>NaN</td>\n",
       "      <td>NaN</td>\n",
       "      <td>NaN</td>\n",
       "      <td>NaN</td>\n",
       "      <td>NaN</td>\n",
       "      <td>NaN</td>\n",
       "      <td>NaN</td>\n",
       "      <td>NaN</td>\n",
       "      <td>NaN</td>\n",
       "      <td>NaN</td>\n",
       "    </tr>\n",
       "  </tbody>\n",
       "</table>\n",
       "<p>41221 rows × 49 columns</p>\n",
       "</div>"
      ],
      "text/plain": [
       "       NODE_15  NODE_17  NODE_08  NODE_13  NODE_10  NODE_35  NODE_26  NODE_22  \\\n",
       "2213     30.67    30.70    29.93     30.0    29.82    30.26     30.4      NaN   \n",
       "2214     30.67    30.70    29.93     30.0    29.82    30.26     30.4      NaN   \n",
       "2215     30.67    30.70    29.93     30.0    29.82    30.26     30.4      NaN   \n",
       "2216     30.67    30.70    29.93     30.0    29.82    30.26     30.4      NaN   \n",
       "2217     30.67    30.68    29.93     30.0    29.82    30.26     30.4      NaN   \n",
       "...        ...      ...      ...      ...      ...      ...      ...      ...   \n",
       "43429      NaN      NaN      NaN      NaN      NaN      NaN      NaN      NaN   \n",
       "43430      NaN      NaN      NaN      NaN      NaN      NaN      NaN      NaN   \n",
       "43431      NaN      NaN      NaN      NaN      NaN      NaN      NaN      NaN   \n",
       "43432      NaN      NaN      NaN      NaN      NaN      NaN      NaN      NaN   \n",
       "43433      NaN      NaN      NaN      NaN      NaN      NaN      NaN      NaN   \n",
       "\n",
       "       NODE_19  NODE_37  ...  NODE_25  NODE_12  NODE_24  NODE_27  NODE_06  \\\n",
       "2213     29.82    30.46  ...     30.3    30.82    29.95    30.54     30.1   \n",
       "2214     29.82    30.46  ...     30.3    30.82    29.95    30.54     30.1   \n",
       "2215     29.82    30.46  ...     30.3    30.82    29.95    30.53     30.1   \n",
       "2216     29.82    30.46  ...     30.3    30.82    29.96    30.53     30.1   \n",
       "2217     29.82    30.46  ...     30.3    30.83    29.96    30.53     30.1   \n",
       "...        ...      ...  ...      ...      ...      ...      ...      ...   \n",
       "43429      NaN      NaN  ...      NaN      NaN      NaN      NaN      NaN   \n",
       "43430      NaN      NaN  ...      NaN      NaN      NaN      NaN      NaN   \n",
       "43431      NaN      NaN  ...      NaN      NaN      NaN      NaN      NaN   \n",
       "43432      NaN      NaN  ...      NaN      NaN      NaN      NaN      NaN   \n",
       "43433      NaN      NaN  ...      NaN      NaN      NaN      NaN      NaN   \n",
       "\n",
       "       NODE_33  NODE_44  NODE_41  NODE_36  NODE_29  \n",
       "2213     30.15    29.88    30.04    29.35    29.89  \n",
       "2214     30.15    29.88    30.04    29.34    29.89  \n",
       "2215     30.15    29.88    30.04    29.34    29.89  \n",
       "2216     30.15    29.88    30.04    29.34    29.89  \n",
       "2217     30.15    29.88    30.04    29.34    29.89  \n",
       "...        ...      ...      ...      ...      ...  \n",
       "43429      NaN      NaN      NaN      NaN      NaN  \n",
       "43430      NaN      NaN      NaN      NaN      NaN  \n",
       "43431      NaN      NaN      NaN      NaN      NaN  \n",
       "43432      NaN      NaN      NaN      NaN      NaN  \n",
       "43433      NaN      NaN      NaN      NaN      NaN  \n",
       "\n",
       "[41221 rows x 49 columns]"
      ]
     },
     "execution_count": 12,
     "metadata": {},
     "output_type": "execute_result"
    }
   ],
   "source": [
    "df[df.isna().any(axis=1)]"
   ]
  },
  {
   "cell_type": "code",
   "execution_count": 13,
   "id": "16f9ca3c-8345-43c1-98b1-036d89bd1e4b",
   "metadata": {
    "colab": {
     "base_uri": "https://localhost:8080/"
    },
    "id": "16f9ca3c-8345-43c1-98b1-036d89bd1e4b",
    "outputId": "1984823b-387e-4da3-aca2-42b22f67c26b",
    "tags": []
   },
   "outputs": [],
   "source": [
    "# Seleziona le colonne rilevanti\n",
    "# numeric_cols = ['Axes_01.T1','Axes_01.T2','Axes_01.T3','Axes_02.T1','Axes_02.T2','Axes_02.T3','Axes_03.T1','Axes_03.T2','Axes_03.T3','Axes_04.T1','Axes_04.T2','Axes_04.T3','Axes_05.T1','Axes_05.T2','Axes_05.T3','Axes_06.T1','Axes_06.T2','Axes_06.T3','Axes_07.T1','Axes_07.T2','Axes_07.T3','Axes_08.T1','Axes_08.T2','Axes_08.T3','Axes_09.T1','Axes_09.T2','Axes_09.T3','Axes_10.T1','Axes_10.T2','Axes_10.T3','Axes_11.T1','Axes_11.T2','Axes_11.T3','Axes_12.T1','Axes_12.T2','Axes_12.T3']\n",
    "\n",
    "# Seleziona i dati dalle colonne\n",
    "# data_selected = df[numeric_cols]\n",
    "\n",
    "# Seleziona le colonne rilevanti\n",
    "numeric_cols = ['NODE_01','NODE_02','NODE_03','NODE_04','NODE_06','NODE_07','NODE_08','NODE_09','NODE_10','NODE_11','NODE_12','NODE_13','NODE_14','NODE_15','NODE_16','NODE_17','NODE_18','NODE_19','NODE_20','NODE_22','NODE_23','NODE_24','NODE_25','NODE_26','NODE_27','NODE_28','NODE_29','NODE_30','NODE_31','NODE_32','NODE_33','NODE_34','NODE_35','NODE_36','NODE_37','NODE_38','NODE_39','NODE_40','NODE_41','NODE_42','NODE_43','NODE_44','NODE_45','NODE_46','NODE_47','NODE_48','NODE_49','NODE_50',]\n",
    "\n",
    "# Seleziona i dati dalle colonne\n",
    "data_selected = df[['NODE_01']]\n"
   ]
  },
  {
   "cell_type": "code",
   "execution_count": 14,
   "id": "TUSJtF4hI4XQ",
   "metadata": {
    "id": "TUSJtF4hI4XQ"
   },
   "outputs": [],
   "source": [
    "data_selected = data_selected.replace(0, data_selected.mean())  # Sostituisce gli 0 con la media della colonna\n",
    "data_selected = data_selected.fillna(data_selected.mean())"
   ]
  },
  {
   "cell_type": "code",
   "execution_count": 15,
   "id": "0KMXQ90NJAuL",
   "metadata": {
    "colab": {
     "base_uri": "https://localhost:8080/"
    },
    "id": "0KMXQ90NJAuL",
    "outputId": "4e909f13-bfa1-4fab-c8bc-452195d3c6b0"
   },
   "outputs": [
    {
     "data": {
      "text/plain": [
       "NODE_01    0\n",
       "dtype: int64"
      ]
     },
     "execution_count": 15,
     "metadata": {},
     "output_type": "execute_result"
    }
   ],
   "source": [
    "data_selected.isna().sum()"
   ]
  },
  {
   "cell_type": "code",
   "execution_count": 16,
   "id": "f07c7c43-b098-439d-b71d-d19eac32217d",
   "metadata": {
    "colab": {
     "base_uri": "https://localhost:8080/",
     "height": 206
    },
    "id": "f07c7c43-b098-439d-b71d-d19eac32217d",
    "outputId": "a72c00ee-86f1-463a-ffe2-fa08fada7995",
    "tags": []
   },
   "outputs": [
    {
     "data": {
      "text/html": [
       "<div>\n",
       "<style scoped>\n",
       "    .dataframe tbody tr th:only-of-type {\n",
       "        vertical-align: middle;\n",
       "    }\n",
       "\n",
       "    .dataframe tbody tr th {\n",
       "        vertical-align: top;\n",
       "    }\n",
       "\n",
       "    .dataframe thead th {\n",
       "        text-align: right;\n",
       "    }\n",
       "</style>\n",
       "<table border=\"1\" class=\"dataframe\">\n",
       "  <thead>\n",
       "    <tr style=\"text-align: right;\">\n",
       "      <th></th>\n",
       "      <th>NODE_01</th>\n",
       "    </tr>\n",
       "  </thead>\n",
       "  <tbody>\n",
       "    <tr>\n",
       "      <th>0</th>\n",
       "      <td>27.84</td>\n",
       "    </tr>\n",
       "    <tr>\n",
       "      <th>1</th>\n",
       "      <td>27.84</td>\n",
       "    </tr>\n",
       "    <tr>\n",
       "      <th>2</th>\n",
       "      <td>27.84</td>\n",
       "    </tr>\n",
       "    <tr>\n",
       "      <th>3</th>\n",
       "      <td>27.84</td>\n",
       "    </tr>\n",
       "    <tr>\n",
       "      <th>4</th>\n",
       "      <td>27.84</td>\n",
       "    </tr>\n",
       "  </tbody>\n",
       "</table>\n",
       "</div>"
      ],
      "text/plain": [
       "   NODE_01\n",
       "0    27.84\n",
       "1    27.84\n",
       "2    27.84\n",
       "3    27.84\n",
       "4    27.84"
      ]
     },
     "execution_count": 16,
     "metadata": {},
     "output_type": "execute_result"
    }
   ],
   "source": [
    "data_selected.head()"
   ]
  },
  {
   "cell_type": "code",
   "execution_count": 17,
   "id": "iZozdvbhLgQC",
   "metadata": {
    "colab": {
     "base_uri": "https://localhost:8080/",
     "height": 423
    },
    "id": "iZozdvbhLgQC",
    "outputId": "a13b6364-194a-4232-fcb3-1738c0abb209"
   },
   "outputs": [
    {
     "data": {
      "text/html": [
       "<div>\n",
       "<style scoped>\n",
       "    .dataframe tbody tr th:only-of-type {\n",
       "        vertical-align: middle;\n",
       "    }\n",
       "\n",
       "    .dataframe tbody tr th {\n",
       "        vertical-align: top;\n",
       "    }\n",
       "\n",
       "    .dataframe thead th {\n",
       "        text-align: right;\n",
       "    }\n",
       "</style>\n",
       "<table border=\"1\" class=\"dataframe\">\n",
       "  <thead>\n",
       "    <tr style=\"text-align: right;\">\n",
       "      <th></th>\n",
       "      <th>NODE_01</th>\n",
       "    </tr>\n",
       "  </thead>\n",
       "  <tbody>\n",
       "    <tr>\n",
       "      <th>0</th>\n",
       "      <td>27.84</td>\n",
       "    </tr>\n",
       "    <tr>\n",
       "      <th>1</th>\n",
       "      <td>27.84</td>\n",
       "    </tr>\n",
       "    <tr>\n",
       "      <th>2</th>\n",
       "      <td>27.84</td>\n",
       "    </tr>\n",
       "    <tr>\n",
       "      <th>3</th>\n",
       "      <td>27.84</td>\n",
       "    </tr>\n",
       "    <tr>\n",
       "      <th>4</th>\n",
       "      <td>27.84</td>\n",
       "    </tr>\n",
       "    <tr>\n",
       "      <th>...</th>\n",
       "      <td>...</td>\n",
       "    </tr>\n",
       "    <tr>\n",
       "      <th>835</th>\n",
       "      <td>27.79</td>\n",
       "    </tr>\n",
       "    <tr>\n",
       "      <th>836</th>\n",
       "      <td>27.79</td>\n",
       "    </tr>\n",
       "    <tr>\n",
       "      <th>837</th>\n",
       "      <td>27.79</td>\n",
       "    </tr>\n",
       "    <tr>\n",
       "      <th>838</th>\n",
       "      <td>27.79</td>\n",
       "    </tr>\n",
       "    <tr>\n",
       "      <th>839</th>\n",
       "      <td>27.79</td>\n",
       "    </tr>\n",
       "  </tbody>\n",
       "</table>\n",
       "<p>840 rows × 1 columns</p>\n",
       "</div>"
      ],
      "text/plain": [
       "     NODE_01\n",
       "0      27.84\n",
       "1      27.84\n",
       "2      27.84\n",
       "3      27.84\n",
       "4      27.84\n",
       "..       ...\n",
       "835    27.79\n",
       "836    27.79\n",
       "837    27.79\n",
       "838    27.79\n",
       "839    27.79\n",
       "\n",
       "[840 rows x 1 columns]"
      ]
     },
     "execution_count": 17,
     "metadata": {},
     "output_type": "execute_result"
    }
   ],
   "source": [
    "# For display only\n",
    "five_weeks_data = data_selected[:840]\n",
    "five_weeks_data"
   ]
  },
  {
   "cell_type": "code",
   "execution_count": 18,
   "id": "cO_0SrTlL_Pj",
   "metadata": {
    "colab": {
     "base_uri": "https://localhost:8080/",
     "height": 644
    },
    "id": "cO_0SrTlL_Pj",
    "outputId": "3e682a07-3546-44c6-b10c-0bfc887bad41"
   },
   "outputs": [
    {
     "data": {
      "image/png": "[encoded data removed]",
      "text/plain": [
       "<Figure size 1500x1000 with 1 Axes>"
      ]
     },
     "metadata": {},
     "output_type": "display_data"
    }
   ],
   "source": [
    "# Define colors for each feature for visibility\n",
    "colors = ['blue', 'green', 'red', 'cyan', 'magenta', 'orange', 'black']\n",
    "n_features = 7\n",
    "plt.figure(figsize=(15, 10))\n",
    "\n",
    "# Plot each feature with specified color and share the x-axis\n",
    "for i, (feature, color) in enumerate(zip(five_weeks_data.columns, colors), 1):\n",
    "    ax = plt.subplot(n_features, 1, i, sharex=ax if i > 1 else None)  # Share the x-axis\n",
    "    five_weeks_data[feature].plot(ax=ax, color=color)\n",
    "    ax.set_title(feature)\n",
    "    ax.set_xlabel('')\n",
    "    ax.grid(True)\n",
    "\n",
    "    # Only show the x-axis label on the last subplot\n",
    "    if i < n_features:\n",
    "        ax.set_xticklabels([])\n",
    "    else:\n",
    "        ax.set_xlabel('Date')\n",
    "\n",
    "plt.tight_layout()\n",
    "plt.show()"
   ]
  },
  {
   "cell_type": "code",
   "execution_count": 19,
   "id": "b20f5388-a0d1-410e-bea0-8dbd39437f3b",
   "metadata": {
    "colab": {
     "base_uri": "https://localhost:8080/",
     "height": 603
    },
    "id": "b20f5388-a0d1-410e-bea0-8dbd39437f3b",
    "outputId": "2a986d85-be52-41fb-f04c-400e7ef28c70",
    "tags": []
   },
   "outputs": [
    {
     "data": {
      "image/png": "[encoded data removed]",
      "text/plain": [
       "<Figure size 1600x1000 with 1 Axes>"
      ]
     },
     "metadata": {},
     "output_type": "display_data"
    }
   ],
   "source": [
    "fig, ax1 = plt.subplots(figsize=(16, 10))\n",
    "\n",
    "ax1.set_xlabel('Time - 1 hour laptime')\n",
    "ax1.set_ylabel('Temp (degC)')\n",
    "ax1.plot(data_selected['NODE_01'], linestyle='-')\n",
    "ax1.tick_params(axis='y')\n",
    "\n",
    "# Optional: Add a title and adjust layout\n",
    "plt.suptitle('Temperature NODE_01')\n",
    "plt.grid()\n",
    "fig.tight_layout()  # adjust subplot parameters to give specified padding\n",
    "\n",
    "plt.show()"
   ]
  },
  {
   "cell_type": "markdown",
   "id": "2f21263c-da83-4a0a-a1b8-0a6095695314",
   "metadata": {
    "id": "2f21263c-da83-4a0a-a1b8-0a6095695314"
   },
   "source": [
    "## Splitting the dataset into training, validation, and testing sets"
   ]
  },
  {
   "cell_type": "code",
   "execution_count": 21,
   "id": "6896b8a3-73e8-445b-a8b9-d9dae0c6e4ad",
   "metadata": {
    "id": "6896b8a3-73e8-445b-a8b9-d9dae0c6e4ad",
    "tags": []
   },
   "outputs": [],
   "source": [
    "SPLIT = 0.8"
   ]
  },
  {
   "cell_type": "code",
   "execution_count": 22,
   "id": "bbdb1db5-ce01-40d7-8e95-e280948fbac0",
   "metadata": {
    "colab": {
     "base_uri": "https://localhost:8080/"
    },
    "id": "bbdb1db5-ce01-40d7-8e95-e280948fbac0",
    "outputId": "735d94f3-0af1-40bc-fec2-7f9a01fba6d2",
    "tags": []
   },
   "outputs": [
    {
     "data": {
      "text/plain": [
       "((34747, 1), (4343, 1), (4344, 1))"
      ]
     },
     "execution_count": 22,
     "metadata": {},
     "output_type": "execute_result"
    }
   ],
   "source": [
    "train_size = int(len(data_selected) * SPLIT)\n",
    "val_size = int(len(data_selected) * (1-SPLIT)//2)\n",
    "test_size = len(data_selected) - train_size - val_size\n",
    "\n",
    "data_train = data_selected[:train_size]\n",
    "data_val = data_selected[train_size:train_size + val_size]\n",
    "data_test = data_selected[-test_size:]\n",
    "\n",
    "\n",
    "data_train.shape, data_val.shape, data_test.shape"
   ]
  },
  {
   "cell_type": "code",
   "execution_count": 23,
   "id": "b58dd05d-1ae7-4149-9071-3afc4853f71b",
   "metadata": {
    "colab": {
     "base_uri": "https://localhost:8080/"
    },
    "id": "b58dd05d-1ae7-4149-9071-3afc4853f71b",
    "outputId": "fb7b66a3-443f-4b1a-9e15-df07d6a936e2",
    "tags": []
   },
   "outputs": [
    {
     "data": {
      "text/plain": [
       "(34747, 4343, 4344)"
      ]
     },
     "execution_count": 23,
     "metadata": {},
     "output_type": "execute_result"
    }
   ],
   "source": [
    "train_size, val_size, test_size"
   ]
  },
  {
   "cell_type": "code",
   "execution_count": 24,
   "id": "bbc99a0b-820a-4238-950e-04191b2891b9",
   "metadata": {
    "colab": {
     "base_uri": "https://localhost:8080/",
     "height": 582
    },
    "id": "bbc99a0b-820a-4238-950e-04191b2891b9",
    "outputId": "985a10b6-0b30-4bda-aebe-1602cf9d7a8d",
    "tags": []
   },
   "outputs": [
    {
     "data": {
      "image/png": "[encoded data removed]",
      "text/plain": [
       "<Figure size 1000x600 with 1 Axes>"
      ]
     },
     "metadata": {},
     "output_type": "display_data"
    }
   ],
   "source": [
    "plt.figure(figsize=(10, 6))\n",
    "data_train['NODE_01'].plot(legend=True)\n",
    "data_val['NODE_01'].plot(legend=True)\n",
    "data_test['NODE_01'].plot(legend=True)\n",
    "plt.legend(['Train', 'Val', 'Test']);\n",
    "plt.suptitle('Temperature')\n",
    "plt.ylabel('T (degC)');"
   ]
  },
  {
   "cell_type": "markdown",
   "id": "56eba231-05ed-41e8-8f58-f2d95b33309b",
   "metadata": {
    "id": "56eba231-05ed-41e8-8f58-f2d95b33309b"
   },
   "source": [
    "## Normalize the data"
   ]
  },
  {
   "cell_type": "markdown",
   "id": "zQ0gMFTFJyLz",
   "metadata": {
    "id": "zQ0gMFTFJyLz"
   },
   "source": [
    "NOTE:\n",
    "- The fit method should only be called on the training data, and then the transform method is used on the training, validation and test data.\n",
    "- Never fit the scaler on the test data or any data used for predictions, as it can introduce future information into the model (a form of data leakage), resulting in over-optimistic performance estimates.\n",
    "- Save the scaler object along with the model, so we can use the model for future predictions, ensuring we can apply the same scaling to new data."
   ]
  },
  {
   "cell_type": "code",
   "execution_count": 27,
   "id": "c54f02f2-2ce8-4bc5-ba49-e8ad2b7ff195",
   "metadata": {
    "id": "c54f02f2-2ce8-4bc5-ba49-e8ad2b7ff195",
    "tags": []
   },
   "outputs": [],
   "source": [
    "# Normalize the data\n",
    "scaler = MinMaxScaler(feature_range=(0, 1))\n",
    "data_train_normalized = scaler.fit_transform(data_train)\n",
    "data_val_normalized = scaler.transform(data_val)\n",
    "data_test_normalized = scaler.transform(data_test)\n",
    "\n"
   ]
  },
  {
   "cell_type": "markdown",
   "id": "c1de44ad-6521-423c-bbae-541292c43d1c",
   "metadata": {
    "id": "c1de44ad-6521-423c-bbae-541292c43d1c"
   },
   "source": [
    "### Save the scaler parameters to a Text file"
   ]
  },
  {
   "cell_type": "code",
   "execution_count": 29,
   "id": "8a2ab70c-06bd-42e6-addf-0d512369fa6d",
   "metadata": {
    "id": "8a2ab70c-06bd-42e6-addf-0d512369fa6d",
    "tags": []
   },
   "outputs": [],
   "source": [
    "# Save the scaler parameters to a text file\n",
    "with open('scaler_params.txt', 'w') as file:\n",
    "    file.write('scale:' + ','.join(map(str, scaler.scale_)) + '\\n')\n",
    "    file.write('min:' + ','.join(map(str, scaler.min_)) + '\\n')\n",
    "    file.write('data_min:' + ','.join(map(str, scaler.data_min_)) + '\\n')\n",
    "    file.write('data_max:' + ','.join(map(str, scaler.data_max_)) + '\\n')\n",
    "    file.write('data_range:' + ','.join(map(str, scaler.data_range_)) + '\\n')"
   ]
  },
  {
   "cell_type": "code",
   "execution_count": 30,
   "id": "cc41300c-e423-4e73-9d9b-0b7587862ee0",
   "metadata": {
    "colab": {
     "base_uri": "https://localhost:8080/"
    },
    "id": "cc41300c-e423-4e73-9d9b-0b7587862ee0",
    "outputId": "e76926a3-0334-4b2d-820a-bef09770d9ec",
    "tags": []
   },
   "outputs": [
    {
     "name": "stdout",
     "output_type": "stream",
     "text": [
      "Train: 0.0, 1.0\n",
      "Test:  -0.07590759075907627, 0.5709570957095718\n",
      "Val:   0.026402640264025834, 0.564356435643564\n"
     ]
    }
   ],
   "source": [
    "print(f'Train: {data_train_normalized.min()}, {data_train_normalized.max()}')\n",
    "print(f'Test:  {data_test_normalized.min()}, {data_test_normalized.max()}')\n",
    "print(f'Val:   {data_val_normalized.min()}, {data_val_normalized.max()}')"
   ]
  },
  {
   "cell_type": "markdown",
   "id": "d579731b-6306-4486-8e49-a07ebda5f42e",
   "metadata": {
    "id": "d579731b-6306-4486-8e49-a07ebda5f42e"
   },
   "source": [
    "## Create Features\n",
    "- Prediction will be Temperature"
   ]
  },
  {
   "cell_type": "code",
   "execution_count": 32,
   "id": "c5439b81-7f62-4c2a-8b27-097713da65cb",
   "metadata": {
    "id": "c5439b81-7f62-4c2a-8b27-097713da65cb",
    "tags": []
   },
   "outputs": [],
   "source": [
    "def create_sequences(input_data, n_steps, fut_hours, out_feat_index):\n",
    "    X, y = [], []\n",
    "    for i in range(len(input_data) - n_steps - fut_hours):\n",
    "        # Define the end of the input sequence\n",
    "        end_ix = i + n_steps\n",
    "        # Define the end of the output sequence\n",
    "        out_end_ix = end_ix + fut_hours\n",
    "        # Ensure we have enough data for this instance\n",
    "        if out_end_ix > len(input_data):\n",
    "            break\n",
    "        # Retrieve input and output\n",
    "        seq_x, seq_y = input_data[i:end_ix, :], input_data[out_end_ix - 1, out_feat_index]  # i.e. 0 is the index for 'tempC'\n",
    "        X.append(seq_x)\n",
    "        y.append(seq_y)\n",
    "    return np.array(X), np.array(y)"
   ]
  },
  {
   "cell_type": "code",
   "execution_count": 33,
   "id": "c6e5a735-1b57-4a1c-a840-dbe4da8f83fb",
   "metadata": {
    "id": "c6e5a735-1b57-4a1c-a840-dbe4da8f83fb",
    "tags": []
   },
   "outputs": [],
   "source": [
    "# Creating sequences (using 168 timesteps, which is 1 weekm 7x24)\n",
    "output_feature = 'NODE_01'\n",
    "out_feat_index = numeric_cols.index(output_feature)\n",
    "fut_hours = 1\n",
    "n_steps = 20\n",
    "n_inputs = len(data_selected.columns)"
   ]
  },
  {
   "cell_type": "code",
   "execution_count": 34,
   "id": "D7eVNE-sLqk7",
   "metadata": {
    "id": "D7eVNE-sLqk7"
   },
   "outputs": [],
   "source": [
    "X_train, y_train = create_sequences(data_train_normalized, n_steps, fut_hours, out_feat_index)\n",
    "X_val, y_val = create_sequences(data_val_normalized, n_steps, fut_hours, out_feat_index)\n",
    "X_test, y_test = create_sequences(data_test_normalized, n_steps, fut_hours, out_feat_index)"
   ]
  },
  {
   "cell_type": "markdown",
   "id": "T1Bpd9_CLmfQ",
   "metadata": {
    "id": "T1Bpd9_CLmfQ"
   },
   "source": []
  },
  {
   "cell_type": "code",
   "execution_count": 36,
   "id": "91218bfc-7f50-46f8-9a51-051ba9b0faa8",
   "metadata": {
    "colab": {
     "base_uri": "https://localhost:8080/"
    },
    "id": "91218bfc-7f50-46f8-9a51-051ba9b0faa8",
    "outputId": "e9aa2cc3-f6b8-40d4-ded3-8f8bd72e1b57",
    "tags": []
   },
   "outputs": [
    {
     "name": "stdout",
     "output_type": "stream",
     "text": [
      "(34726, 20, 1) (34726,)\n",
      "(4323, 20, 1) (4323,)\n",
      "(4322, 20, 1) (4322,)\n"
     ]
    }
   ],
   "source": [
    "print(X_train.shape, y_train.shape)\n",
    "print(X_test.shape, y_test.shape)\n",
    "print(X_val.shape, y_val.shape)"
   ]
  },
  {
   "cell_type": "code",
   "execution_count": null,
   "id": "9b643b30-9241-4d99-b6bf-e01fb96b0f81",
   "metadata": {
    "id": "9b643b30-9241-4d99-b6bf-e01fb96b0f81"
   },
   "outputs": [],
   "source": []
  },
  {
   "cell_type": "markdown",
   "id": "f456ce67-999a-4972-83dc-b221d9e0aef6",
   "metadata": {
    "id": "f456ce67-999a-4972-83dc-b221d9e0aef6"
   },
   "source": [
    "## Design Model"
   ]
  },
  {
   "cell_type": "code",
   "execution_count": 38,
   "id": "2fafc342-7cf0-401f-8fb0-3e9599136f35",
   "metadata": {
    "colab": {
     "base_uri": "https://localhost:8080/"
    },
    "id": "2fafc342-7cf0-401f-8fb0-3e9599136f35",
    "outputId": "54dd1aed-5308-4aab-e26c-d3b9b9ea7d31",
    "tags": []
   },
   "outputs": [
    {
     "name": "stderr",
     "output_type": "stream",
     "text": [
      "/opt/anaconda3/lib/python3.12/site-packages/keras/src/layers/rnn/rnn.py:204: UserWarning: Do not pass an `input_shape`/`input_dim` argument to a layer. When using Sequential models, prefer using an `Input(shape)` object as the first layer in the model instead.\n",
      "  super().__init__(**kwargs)\n"
     ]
    },
    {
     "data": {
      "text/html": [
       "<pre style=\"white-space:pre;overflow-x:auto;line-height:normal;font-family:Menlo,'DejaVu Sans Mono',consolas,'Courier New',monospace\"><span style=\"font-weight: bold\">Model: \"sequential\"</span>\n",
       "</pre>\n"
      ],
      "text/plain": [
       "\u001b[1mModel: \"sequential\"\u001b[0m\n"
      ]
     },
     "metadata": {},
     "output_type": "display_data"
    },
    {
     "data": {
      "text/html": [
       "<pre style=\"white-space:pre;overflow-x:auto;line-height:normal;font-family:Menlo,'DejaVu Sans Mono',consolas,'Courier New',monospace\">┏━━━━━━━━━━━━━━━━━━━━━━━━━━━━━━━━━┳━━━━━━━━━━━━━━━━━━━━━━━━┳━━━━━━━━━━━━━━━┓\n",
       "┃<span style=\"font-weight: bold\"> Layer (type)                    </span>┃<span style=\"font-weight: bold\"> Output Shape           </span>┃<span style=\"font-weight: bold\">       Param # </span>┃\n",
       "┡━━━━━━━━━━━━━━━━━━━━━━━━━━━━━━━━━╇━━━━━━━━━━━━━━━━━━━━━━━━╇━━━━━━━━━━━━━━━┩\n",
       "│ lstm (<span style=\"color: #0087ff; text-decoration-color: #0087ff\">LSTM</span>)                     │ (<span style=\"color: #00d7ff; text-decoration-color: #00d7ff\">None</span>, <span style=\"color: #00af00; text-decoration-color: #00af00\">128</span>)            │        <span style=\"color: #00af00; text-decoration-color: #00af00\">66,560</span> │\n",
       "├─────────────────────────────────┼────────────────────────┼───────────────┤\n",
       "│ dense (<span style=\"color: #0087ff; text-decoration-color: #0087ff\">Dense</span>)                   │ (<span style=\"color: #00d7ff; text-decoration-color: #00d7ff\">None</span>, <span style=\"color: #00af00; text-decoration-color: #00af00\">1</span>)              │           <span style=\"color: #00af00; text-decoration-color: #00af00\">129</span> │\n",
       "└─────────────────────────────────┴────────────────────────┴───────────────┘\n",
       "</pre>\n"
      ],
      "text/plain": [
       "┏━━━━━━━━━━━━━━━━━━━━━━━━━━━━━━━━━┳━━━━━━━━━━━━━━━━━━━━━━━━┳━━━━━━━━━━━━━━━┓\n",
       "┃\u001b[1m \u001b[0m\u001b[1mLayer (type)                   \u001b[0m\u001b[1m \u001b[0m┃\u001b[1m \u001b[0m\u001b[1mOutput Shape          \u001b[0m\u001b[1m \u001b[0m┃\u001b[1m \u001b[0m\u001b[1m      Param #\u001b[0m\u001b[1m \u001b[0m┃\n",
       "┡━━━━━━━━━━━━━━━━━━━━━━━━━━━━━━━━━╇━━━━━━━━━━━━━━━━━━━━━━━━╇━━━━━━━━━━━━━━━┩\n",
       "│ lstm (\u001b[38;5;33mLSTM\u001b[0m)                     │ (\u001b[38;5;45mNone\u001b[0m, \u001b[38;5;34m128\u001b[0m)            │        \u001b[38;5;34m66,560\u001b[0m │\n",
       "├─────────────────────────────────┼────────────────────────┼───────────────┤\n",
       "│ dense (\u001b[38;5;33mDense\u001b[0m)                   │ (\u001b[38;5;45mNone\u001b[0m, \u001b[38;5;34m1\u001b[0m)              │           \u001b[38;5;34m129\u001b[0m │\n",
       "└─────────────────────────────────┴────────────────────────┴───────────────┘\n"
      ]
     },
     "metadata": {},
     "output_type": "display_data"
    },
    {
     "data": {
      "text/html": [
       "<pre style=\"white-space:pre;overflow-x:auto;line-height:normal;font-family:Menlo,'DejaVu Sans Mono',consolas,'Courier New',monospace\"><span style=\"font-weight: bold\"> Total params: </span><span style=\"color: #00af00; text-decoration-color: #00af00\">66,689</span> (260.50 KB)\n",
       "</pre>\n"
      ],
      "text/plain": [
       "\u001b[1m Total params: \u001b[0m\u001b[38;5;34m66,689\u001b[0m (260.50 KB)\n"
      ]
     },
     "metadata": {},
     "output_type": "display_data"
    },
    {
     "data": {
      "text/html": [
       "<pre style=\"white-space:pre;overflow-x:auto;line-height:normal;font-family:Menlo,'DejaVu Sans Mono',consolas,'Courier New',monospace\"><span style=\"font-weight: bold\"> Trainable params: </span><span style=\"color: #00af00; text-decoration-color: #00af00\">66,689</span> (260.50 KB)\n",
       "</pre>\n"
      ],
      "text/plain": [
       "\u001b[1m Trainable params: \u001b[0m\u001b[38;5;34m66,689\u001b[0m (260.50 KB)\n"
      ]
     },
     "metadata": {},
     "output_type": "display_data"
    },
    {
     "data": {
      "text/html": [
       "<pre style=\"white-space:pre;overflow-x:auto;line-height:normal;font-family:Menlo,'DejaVu Sans Mono',consolas,'Courier New',monospace\"><span style=\"font-weight: bold\"> Non-trainable params: </span><span style=\"color: #00af00; text-decoration-color: #00af00\">0</span> (0.00 B)\n",
       "</pre>\n"
      ],
      "text/plain": [
       "\u001b[1m Non-trainable params: \u001b[0m\u001b[38;5;34m0\u001b[0m (0.00 B)\n"
      ]
     },
     "metadata": {},
     "output_type": "display_data"
    }
   ],
   "source": [
    "# Building the LSTM model\n",
    "model = Sequential([\n",
    "    LSTM(128,\n",
    "         input_shape=(n_steps, X_train.shape[2])),\n",
    "    Dense(1)\n",
    "])\n",
    "\n",
    "# Compile the model\n",
    "model.compile(optimizer='adam', loss='mse')\n",
    "model.summary()"
   ]
  },
  {
   "cell_type": "markdown",
   "id": "297227d4-21d0-403a-b0df-975188120dba",
   "metadata": {
    "id": "297227d4-21d0-403a-b0df-975188120dba"
   },
   "source": [
    "## Training Model"
   ]
  },
  {
   "cell_type": "code",
   "execution_count": 40,
   "id": "7e5c3a2e-d8c6-4423-946d-f178cedd8089",
   "metadata": {
    "id": "7e5c3a2e-d8c6-4423-946d-f178cedd8089",
    "tags": []
   },
   "outputs": [],
   "source": [
    "# Define early stopping\n",
    "early_stopping = EarlyStopping(\n",
    "    monitor='val_loss',\n",
    "    patience=5,\n",
    "    mode='min',\n",
    "    restore_best_weights=True)"
   ]
  },
  {
   "cell_type": "code",
   "execution_count": 41,
   "id": "8d598d37-a6a5-426e-a259-e4d0081a3dc0",
   "metadata": {
    "id": "8d598d37-a6a5-426e-a259-e4d0081a3dc0",
    "tags": []
   },
   "outputs": [],
   "source": [
    "# Define your batch size and EPOCHS\n",
    "BATCH = 30\n",
    "EPOCHS = 20"
   ]
  },
  {
   "cell_type": "code",
   "execution_count": 42,
   "id": "d1e52e06-35e2-4429-beb6-7ad7277f828a",
   "metadata": {
    "colab": {
     "base_uri": "https://localhost:8080/"
    },
    "id": "d1e52e06-35e2-4429-beb6-7ad7277f828a",
    "outputId": "22b1acd9-60d0-4beb-f516-b4d116e905db",
    "tags": []
   },
   "outputs": [
    {
     "name": "stdout",
     "output_type": "stream",
     "text": [
      "Epoch 1/20\n",
      "\u001b[1m1158/1158\u001b[0m \u001b[32m━━━━━━━━━━━━━━━━━━━━\u001b[0m\u001b[37m\u001b[0m \u001b[1m8s\u001b[0m 6ms/step - loss: 0.0065 - val_loss: 2.5198e-04\n",
      "Epoch 2/20\n",
      "\u001b[1m1158/1158\u001b[0m \u001b[32m━━━━━━━━━━━━━━━━━━━━\u001b[0m\u001b[37m\u001b[0m \u001b[1m7s\u001b[0m 6ms/step - loss: 1.9241e-04 - val_loss: 1.7896e-04\n",
      "Epoch 3/20\n",
      "\u001b[1m1158/1158\u001b[0m \u001b[32m━━━━━━━━━━━━━━━━━━━━\u001b[0m\u001b[37m\u001b[0m \u001b[1m7s\u001b[0m 6ms/step - loss: 1.1892e-04 - val_loss: 1.4865e-04\n",
      "Epoch 4/20\n",
      "\u001b[1m1158/1158\u001b[0m \u001b[32m━━━━━━━━━━━━━━━━━━━━\u001b[0m\u001b[37m\u001b[0m \u001b[1m7s\u001b[0m 6ms/step - loss: 9.1510e-05 - val_loss: 6.3686e-04\n",
      "Epoch 5/20\n",
      "\u001b[1m1158/1158\u001b[0m \u001b[32m━━━━━━━━━━━━━━━━━━━━\u001b[0m\u001b[37m\u001b[0m \u001b[1m7s\u001b[0m 6ms/step - loss: 4.8088e-05 - val_loss: 1.1304e-04\n",
      "Epoch 6/20\n",
      "\u001b[1m1158/1158\u001b[0m \u001b[32m━━━━━━━━━━━━━━━━━━━━\u001b[0m\u001b[37m\u001b[0m \u001b[1m7s\u001b[0m 6ms/step - loss: 9.5800e-05 - val_loss: 9.8658e-05\n",
      "Epoch 7/20\n",
      "\u001b[1m1158/1158\u001b[0m \u001b[32m━━━━━━━━━━━━━━━━━━━━\u001b[0m\u001b[37m\u001b[0m \u001b[1m7s\u001b[0m 6ms/step - loss: 6.3091e-05 - val_loss: 8.4323e-05\n",
      "Epoch 8/20\n",
      "\u001b[1m1158/1158\u001b[0m \u001b[32m━━━━━━━━━━━━━━━━━━━━\u001b[0m\u001b[37m\u001b[0m \u001b[1m7s\u001b[0m 6ms/step - loss: 2.5542e-05 - val_loss: 7.7807e-05\n",
      "Epoch 9/20\n",
      "\u001b[1m1158/1158\u001b[0m \u001b[32m━━━━━━━━━━━━━━━━━━━━\u001b[0m\u001b[37m\u001b[0m \u001b[1m7s\u001b[0m 6ms/step - loss: 3.5734e-05 - val_loss: 7.4431e-05\n",
      "Epoch 10/20\n",
      "\u001b[1m1158/1158\u001b[0m \u001b[32m━━━━━━━━━━━━━━━━━━━━\u001b[0m\u001b[37m\u001b[0m \u001b[1m7s\u001b[0m 6ms/step - loss: 1.2813e-04 - val_loss: 7.2104e-05\n",
      "Epoch 11/20\n",
      "\u001b[1m1158/1158\u001b[0m \u001b[32m━━━━━━━━━━━━━━━━━━━━\u001b[0m\u001b[37m\u001b[0m \u001b[1m7s\u001b[0m 6ms/step - loss: 5.4716e-05 - val_loss: 7.0919e-05\n",
      "Epoch 12/20\n",
      "\u001b[1m1158/1158\u001b[0m \u001b[32m━━━━━━━━━━━━━━━━━━━━\u001b[0m\u001b[37m\u001b[0m \u001b[1m7s\u001b[0m 6ms/step - loss: 2.9689e-05 - val_loss: 7.0578e-05\n",
      "Epoch 13/20\n",
      "\u001b[1m1158/1158\u001b[0m \u001b[32m━━━━━━━━━━━━━━━━━━━━\u001b[0m\u001b[37m\u001b[0m \u001b[1m7s\u001b[0m 6ms/step - loss: 2.2597e-05 - val_loss: 6.9383e-05\n",
      "Epoch 14/20\n",
      "\u001b[1m1158/1158\u001b[0m \u001b[32m━━━━━━━━━━━━━━━━━━━━\u001b[0m\u001b[37m\u001b[0m \u001b[1m7s\u001b[0m 6ms/step - loss: 4.2991e-05 - val_loss: 6.8966e-05\n",
      "Epoch 15/20\n",
      "\u001b[1m1158/1158\u001b[0m \u001b[32m━━━━━━━━━━━━━━━━━━━━\u001b[0m\u001b[37m\u001b[0m \u001b[1m7s\u001b[0m 6ms/step - loss: 5.1763e-05 - val_loss: 6.8657e-05\n",
      "Epoch 16/20\n",
      "\u001b[1m1158/1158\u001b[0m \u001b[32m━━━━━━━━━━━━━━━━━━━━\u001b[0m\u001b[37m\u001b[0m \u001b[1m7s\u001b[0m 6ms/step - loss: 6.1095e-05 - val_loss: 6.9029e-05\n",
      "Epoch 17/20\n",
      "\u001b[1m1158/1158\u001b[0m \u001b[32m━━━━━━━━━━━━━━━━━━━━\u001b[0m\u001b[37m\u001b[0m \u001b[1m7s\u001b[0m 6ms/step - loss: 8.0447e-05 - val_loss: 6.8684e-05\n",
      "Epoch 18/20\n",
      "\u001b[1m1158/1158\u001b[0m \u001b[32m━━━━━━━━━━━━━━━━━━━━\u001b[0m\u001b[37m\u001b[0m \u001b[1m7s\u001b[0m 6ms/step - loss: 3.7237e-05 - val_loss: 6.8209e-05\n",
      "Epoch 19/20\n",
      "\u001b[1m1158/1158\u001b[0m \u001b[32m━━━━━━━━━━━━━━━━━━━━\u001b[0m\u001b[37m\u001b[0m \u001b[1m7s\u001b[0m 6ms/step - loss: 7.7382e-06 - val_loss: 6.8428e-05\n",
      "Epoch 20/20\n",
      "\u001b[1m1158/1158\u001b[0m \u001b[32m━━━━━━━━━━━━━━━━━━━━\u001b[0m\u001b[37m\u001b[0m \u001b[1m7s\u001b[0m 6ms/step - loss: 2.7872e-05 - val_loss: 6.8522e-05\n"
     ]
    }
   ],
   "source": [
    "history = model.fit(\n",
    "    X_train, y_train,\n",
    "    batch_size=BATCH,\n",
    "    epochs=EPOCHS,\n",
    "    validation_data=(X_val, y_val),\n",
    "    callbacks=[early_stopping]\n",
    ")"
   ]
  },
  {
   "cell_type": "code",
   "execution_count": 43,
   "id": "7a8824ce-045e-4f25-b1df-e57abb84cbfa",
   "metadata": {
    "colab": {
     "base_uri": "https://localhost:8080/",
     "height": 564
    },
    "id": "7a8824ce-045e-4f25-b1df-e57abb84cbfa",
    "outputId": "1820541c-cb74-4ab2-8a4e-11282cf5113d",
    "tags": []
   },
   "outputs": [
    {
     "data": {
      "image/png": "[encoded data removed]",
      "text/plain": [
       "<Figure size 1000x600 with 1 Axes>"
      ]
     },
     "metadata": {},
     "output_type": "display_data"
    }
   ],
   "source": [
    "# Plotting the training and validation loss\n",
    "plt.figure(figsize=(10, 6))\n",
    "plt.plot(history.history['loss'], label='Training Loss')\n",
    "plt.plot(history.history['val_loss'], label='Validation Loss')\n",
    "plt.title('Model Training History')\n",
    "plt.ylabel('Loss')\n",
    "plt.xlabel('Epoch')\n",
    "plt.legend()\n",
    "plt.show()"
   ]
  },
  {
   "cell_type": "code",
   "execution_count": 44,
   "id": "f99bcb92-a6b2-4491-8373-ec677305652d",
   "metadata": {
    "colab": {
     "base_uri": "https://localhost:8080/"
    },
    "id": "f99bcb92-a6b2-4491-8373-ec677305652d",
    "outputId": "e5842701-2d51-499b-ebca-431c0241f183",
    "tags": []
   },
   "outputs": [
    {
     "name": "stdout",
     "output_type": "stream",
     "text": [
      "\u001b[1m136/136\u001b[0m \u001b[32m━━━━━━━━━━━━━━━━━━━━\u001b[0m\u001b[37m\u001b[0m \u001b[1m0s\u001b[0m 2ms/step - loss: 5.4394e-05\n",
      "  RMSE test:\t 0.013\n"
     ]
    }
   ],
   "source": [
    "from math import sqrt\n",
    "err = model.evaluate(X_test, y_test)\n",
    "print(f'  RMSE test:\\t {sqrt(err):.3f}')"
   ]
  },
  {
   "cell_type": "code",
   "execution_count": 45,
   "id": "53e7e1ab-256b-4ca5-bcbc-342fb58a1840",
   "metadata": {
    "colab": {
     "base_uri": "https://localhost:8080/"
    },
    "id": "53e7e1ab-256b-4ca5-bcbc-342fb58a1840",
    "outputId": "a24f3bb2-2e93-4e48-9898-0e46574463f7",
    "tags": []
   },
   "outputs": [
    {
     "name": "stdout",
     "output_type": "stream",
     "text": [
      "\u001b[1m136/136\u001b[0m \u001b[32m━━━━━━━━━━━━━━━━━━━━\u001b[0m\u001b[37m\u001b[0m \u001b[1m0s\u001b[0m 3ms/step\n"
     ]
    }
   ],
   "source": [
    "prediccion = model.predict(X_test)"
   ]
  },
  {
   "cell_type": "code",
   "execution_count": 46,
   "id": "44ecfb8c-1ad3-4d33-a16e-e63001b61556",
   "metadata": {
    "colab": {
     "base_uri": "https://localhost:8080/"
    },
    "id": "44ecfb8c-1ad3-4d33-a16e-e63001b61556",
    "outputId": "d5e8e4c8-5dc3-4589-e226-5e1db791bd7f",
    "tags": []
   },
   "outputs": [
    {
     "data": {
      "text/plain": [
       "array([[0.5443789 ],\n",
       "       [0.5443789 ],\n",
       "       [0.5443789 ],\n",
       "       ...,\n",
       "       [0.47905704],\n",
       "       [0.47905704],\n",
       "       [0.47905704]], dtype=float32)"
      ]
     },
     "execution_count": 46,
     "metadata": {},
     "output_type": "execute_result"
    }
   ],
   "source": [
    "prediccion"
   ]
  },
  {
   "cell_type": "code",
   "execution_count": 47,
   "id": "782b325a-f0b9-4fcd-9678-d8cf55f67ff5",
   "metadata": {
    "colab": {
     "base_uri": "https://localhost:8080/"
    },
    "id": "782b325a-f0b9-4fcd-9678-d8cf55f67ff5",
    "outputId": "de0ac508-fe0a-4291-c214-0ed7947b4513",
    "tags": []
   },
   "outputs": [
    {
     "data": {
      "image/png": "[encoded data removed]",
      "text/plain": [
       "<Figure size 1000x600 with 1 Axes>"
      ]
     },
     "metadata": {},
     "output_type": "display_data"
    }
   ],
   "source": [
    "plt.figure(figsize=(10, 6))\n",
    "plt.plot(y_test, color = 'red', label = 'Real data')\n",
    "plt.plot(prediccion, color = 'blue', label = 'Predicted  data', alpha = 0.6)\n",
    "plt.title(' data Prediction')\n",
    "plt.xlabel('Time')\n",
    "plt.ylabel(' value')\n",
    "plt.legend()\n",
    "plt.show()"
   ]
  },
  {
   "cell_type": "code",
   "execution_count": 48,
   "id": "d6856091-d0d9-452e-baa1-aebb08f625f1",
   "metadata": {
    "colab": {
     "base_uri": "https://localhost:8080/"
    },
    "id": "d6856091-d0d9-452e-baa1-aebb08f625f1",
    "outputId": "bfce285c-0a18-42e4-d5ff-b4f3cf5da2e3",
    "tags": []
   },
   "outputs": [
    {
     "data": {
      "image/png": "[encoded data removed]",
      "text/plain": [
       "<Figure size 1000x600 with 1 Axes>"
      ]
     },
     "metadata": {},
     "output_type": "display_data"
    }
   ],
   "source": [
    "plt.figure(figsize=(10, 6))\n",
    "plt.plot(y_test[12000:], color = 'red', label = 'Real data')\n",
    "plt.plot(prediccion[12000:], color = 'blue', label = 'Predicted  data', alpha = 0.6)\n",
    "plt.title(' data Prediction')\n",
    "plt.xlabel('Time')\n",
    "plt.ylabel(' value')\n",
    "plt.legend()\n",
    "plt.show()"
   ]
  },
  {
   "cell_type": "markdown",
   "id": "962bd20d-3556-406e-8c73-9c0d025507d2",
   "metadata": {
    "id": "962bd20d-3556-406e-8c73-9c0d025507d2"
   },
   "source": [
    "## Create TFLite LSTM Model - Float32"
   ]
  },
  {
   "cell_type": "markdown",
   "id": "3189f912-6003-479a-8c04-eba548b4040a",
   "metadata": {
    "id": "3189f912-6003-479a-8c04-eba548b4040a"
   },
   "source": [
    "- EI does support LSTM since tflite micro update last year, but it comes with a few limitations, most importantly, the converted tflite model should have **UnidirectionalLSTM** operator\n",
    "- Float32 is supported and tested, while quantized model does not seem to work (even with full tflite)"
   ]
  },
  {
   "cell_type": "code",
   "execution_count": 65,
   "id": "344ff5b8-099b-43f1-94c2-6ca801f72323",
   "metadata": {
    "id": "344ff5b8-099b-43f1-94c2-6ca801f72323",
    "tags": []
   },
   "outputs": [
    {
     "name": "stdout",
     "output_type": "stream",
     "text": [
      "INFO:tensorflow:Assets written to: lstm/assets\n"
     ]
    },
    {
     "name": "stderr",
     "output_type": "stream",
     "text": [
      "INFO:tensorflow:Assets written to: lstm/assets\n"
     ]
    },
    {
     "name": "stdout",
     "output_type": "stream",
     "text": [
      "Saved artifact at 'lstm'. The following endpoints are available:\n",
      "\n",
      "* Endpoint 'serve'\n",
      "  args_0 (POSITIONAL_ONLY): TensorSpec(shape=(None, 20, 1), dtype=tf.float32, name='keras_tensor')\n",
      "Output Type:\n",
      "  TensorSpec(shape=(None, 1), dtype=tf.float32, name=None)\n",
      "Captures:\n",
      "  6116994960: TensorSpec(shape=(), dtype=tf.resource, name=None)\n",
      "  6116995536: TensorSpec(shape=(), dtype=tf.resource, name=None)\n",
      "  6116996304: TensorSpec(shape=(), dtype=tf.resource, name=None)\n",
      "  6116996496: TensorSpec(shape=(), dtype=tf.resource, name=None)\n",
      "  6116996112: TensorSpec(shape=(), dtype=tf.resource, name=None)\n"
     ]
    },
    {
     "name": "stderr",
     "output_type": "stream",
     "text": [
      "W0000 00:00:1727356631.236652  426737 tf_tfl_flatbuffer_helpers.cc:390] Ignored output_format.\n",
      "W0000 00:00:1727356631.236665  426737 tf_tfl_flatbuffer_helpers.cc:393] Ignored drop_control_dependency.\n",
      "2024-09-26 15:17:11.236756: I tensorflow/cc/saved_model/reader.cc:83] Reading SavedModel from: lstm\n",
      "2024-09-26 15:17:11.237116: I tensorflow/cc/saved_model/reader.cc:51] Reading meta graph with tags { serve }\n",
      "2024-09-26 15:17:11.237121: I tensorflow/cc/saved_model/reader.cc:146] Reading SavedModel debug info (if present) from: lstm\n",
      "2024-09-26 15:17:11.241511: I tensorflow/cc/saved_model/loader.cc:234] Restoring SavedModel bundle.\n",
      "2024-09-26 15:17:11.253178: I tensorflow/cc/saved_model/loader.cc:218] Running initialization op on SavedModel bundle at path: lstm\n",
      "2024-09-26 15:17:11.258365: I tensorflow/cc/saved_model/loader.cc:317] SavedModel load for tags { serve }; Status: success: OK. Took 21609 microseconds.\n",
      "2024-09-26 15:17:11.283442: W tensorflow/compiler/mlir/lite/flatbuffer_export.cc:2996] TFLite interpreter needs to link Flex delegate in order to run the model since it contains the following Select TFop(s):\n",
      "Flex ops: FlexTensorListReserve, FlexTensorListSetItem, FlexTensorListStack\n",
      "Details:\n",
      "\ttf.TensorListReserve(tensor<2xi32>, tensor<i32>) -> (tensor<!tf_type.variant<tensor<?x128xf32>>>) : {device = \"\"}\n",
      "\ttf.TensorListSetItem(tensor<!tf_type.variant<tensor<?x128xf32>>>, tensor<i32>, tensor<?x128xf32>) -> (tensor<!tf_type.variant<tensor<?x128xf32>>>) : {device = \"\", resize_if_index_out_of_bounds = false}\n",
      "\ttf.TensorListStack(tensor<!tf_type.variant<tensor<?x128xf32>>>, tensor<2xi32>) -> (tensor<1x?x128xf32>) : {device = \"\", num_elements = 1 : i64}\n",
      "See instructions: https://www.tensorflow.org/lite/guide/ops_select\n"
     ]
    }
   ],
   "source": [
    "run_model = tf.function(lambda x: model(x))\n",
    "\n",
    "BATCH_SIZE = 1\n",
    "STEPS = n_steps\n",
    "INPUT_SIZE = n_inputs\n",
    "concrete_func = run_model.get_concrete_function(\n",
    "    tf.TensorSpec([BATCH_SIZE, STEPS, INPUT_SIZE], model.inputs[0].dtype))\n",
    "\n",
    "# model directory.\n",
    "MODEL_DIR = \"lstm\"\n",
    "# Salva il modello\n",
    "model.export('lstm')\n",
    "\n",
    "converter = tf.lite.TFLiteConverter.from_saved_model('lstm')\n",
    "\n",
    "converter.target_spec.supported_ops = [\n",
    "    tf.lite.OpsSet.TFLITE_BUILTINS, \n",
    "    tf.lite.OpsSet.SELECT_TF_OPS\n",
    "]\n",
    "converter._experimental_lower_tensor_list_ops = False\n",
    "tflite_model = converter.convert()\n",
    "\n",
    "# Save the converted model to file\n",
    "tflite_model_file = 'lstm.tflite'\n",
    "with open(tflite_model_file, 'wb') as f:\n",
    "    f.write(tflite_model)\n"
   ]
  },
  {
   "cell_type": "code",
   "execution_count": 67,
   "id": "9fcd5383-2c52-4f5b-b421-e761e0850192",
   "metadata": {},
   "outputs": [
    {
     "name": "stdout",
     "output_type": "stream",
     "text": [
      "[[0.90881336]]\n"
     ]
    },
    {
     "name": "stderr",
     "output_type": "stream",
     "text": [
      "2024-09-26 15:17:13.848618: E tensorflow/core/framework/node_def_util.cc:676] NodeDef mentions attribute use_inter_op_parallelism which is not in the op definition: Op<name=TensorListReserve; signature=element_shape:shape_type, num_elements:int32 -> handle:variant; attr=element_dtype:type; attr=shape_type:type,allowed=[DT_INT32, DT_INT64]> This may be expected if your graph generating binary is newer  than this binary. Unknown attributes will be ignored. NodeDef: {{node TensorListReserve}}\n"
     ]
    }
   ],
   "source": [
    "import numpy as np\n",
    "import tensorflow as tf\n",
    "\n",
    "# Carica il modello convertito\n",
    "interpreter = tf.lite.Interpreter(model_path=tflite_model_file)\n",
    "interpreter.allocate_tensors()\n",
    "\n",
    "# Ottieni i dettagli delle tensioni di input e output\n",
    "input_details = interpreter.get_input_details()\n",
    "output_details = interpreter.get_output_details()\n",
    "\n",
    "# Crea un input dummy per testare il modello\n",
    "dummy_input = np.random.rand(BATCH_SIZE, STEPS, INPUT_SIZE).astype(input_details[0]['dtype'])\n",
    "\n",
    "# Esegui l'inferenza\n",
    "interpreter.set_tensor(input_details[0]['index'], dummy_input)\n",
    "interpreter.invoke()\n",
    "\n",
    "# Ottieni l'output\n",
    "output_data = interpreter.get_tensor(output_details[0]['index'])\n",
    "print(output_data)\n"
   ]
  },
  {
   "cell_type": "code",
   "execution_count": 52,
   "id": "5241073d-7208-488c-ba8c-872faaca034a",
   "metadata": {
    "id": "5241073d-7208-488c-ba8c-872faaca034a",
    "scrolled": true,
    "tags": []
   },
   "outputs": [
    {
     "name": "stderr",
     "output_type": "stream",
     "text": [
      "INFO: Created TensorFlow Lite delegate for select TF ops.\n",
      "INFO: TfLiteFlexDelegate delegate: 2 nodes delegated out of 10 nodes with 2 partitions.\n",
      "\n",
      "2024-09-26 15:04:10.148994: E tensorflow/core/framework/node_def_util.cc:676] NodeDef mentions attribute use_inter_op_parallelism which is not in the op definition: Op<name=TensorListReserve; signature=element_shape:shape_type, num_elements:int32 -> handle:variant; attr=element_dtype:type; attr=shape_type:type,allowed=[DT_INT32, DT_INT64]> This may be expected if your graph generating binary is newer  than this binary. Unknown attributes will be ignored. NodeDef: {{node TensorListReserve}}\n",
      "INFO: Created TensorFlow Lite XNNPACK delegate for CPU.\n",
      "WARNING: Attempting to use a delegate that only supports static-sized tensors with a graph that has dynamic-sized tensors (tensor#20 is a dynamic-sized tensor).\n"
     ]
    }
   ],
   "source": [
    "# Initialize the TFLite interpreter\n",
    "interp = tf.lite.Interpreter(model_content=tflite_model)\n",
    "\n",
    "# Allocate the tensors\n",
    "interp.allocate_tensors()\n",
    "\n",
    "# Get input/output layer information\n",
    "i_details = interp.get_input_details()[0]\n",
    "o_details = interp.get_output_details()[0]"
   ]
  },
  {
   "cell_type": "code",
   "execution_count": 53,
   "id": "c40d92ec-ff9d-41a4-ae6f-9c90bc3f123f",
   "metadata": {
    "id": "c40d92ec-ff9d-41a4-ae6f-9c90bc3f123f",
    "jupyter": {
     "source_hidden": true
    },
    "outputId": "0eb3859f-3119-4a7d-d00a-c400f48abf3f",
    "tags": []
   },
   "outputs": [
    {
     "data": {
      "text/plain": [
       "{'name': 'serving_default_keras_tensor:0',\n",
       " 'index': 0,\n",
       " 'shape': array([ 1, 20,  1], dtype=int32),\n",
       " 'shape_signature': array([-1, 20,  1], dtype=int32),\n",
       " 'dtype': numpy.float32,\n",
       " 'quantization': (0.0, 0),\n",
       " 'quantization_parameters': {'scales': array([], dtype=float32),\n",
       "  'zero_points': array([], dtype=int32),\n",
       "  'quantized_dimension': 0},\n",
       " 'sparsity_parameters': {}}"
      ]
     },
     "execution_count": 53,
     "metadata": {},
     "output_type": "execute_result"
    }
   ],
   "source": [
    "i_details"
   ]
  },
  {
   "cell_type": "code",
   "execution_count": 54,
   "id": "225e2b6a-ff37-48b5-8d6d-a0f28418bf3a",
   "metadata": {
    "id": "225e2b6a-ff37-48b5-8d6d-a0f28418bf3a",
    "outputId": "c9f3dd9c-1a16-4936-ffb7-97f8b82730da",
    "tags": []
   },
   "outputs": [
    {
     "data": {
      "text/plain": [
       "{'name': 'StatefulPartitionedCall_1:0',\n",
       " 'index': 29,\n",
       " 'shape': array([1, 1], dtype=int32),\n",
       " 'shape_signature': array([-1,  1], dtype=int32),\n",
       " 'dtype': numpy.float32,\n",
       " 'quantization': (0.0, 0),\n",
       " 'quantization_parameters': {'scales': array([], dtype=float32),\n",
       "  'zero_points': array([], dtype=int32),\n",
       "  'quantized_dimension': 0},\n",
       " 'sparsity_parameters': {}}"
      ]
     },
     "execution_count": 54,
     "metadata": {},
     "output_type": "execute_result"
    }
   ],
   "source": [
    "o_details"
   ]
  }
 ],
 "metadata": {
  "colab": {
   "provenance": []
  },
  "kernelspec": {
   "display_name": "Python 3 (ipykernel)",
   "language": "python",
   "name": "python3"
  },
  "language_info": {
   "codemirror_mode": {
    "name": "ipython",
    "version": 3
   },
   "file_extension": ".py",
   "mimetype": "text/x-python",
   "name": "python",
   "nbconvert_exporter": "python",
   "pygments_lexer": "ipython3",
   "version": "3.12.4"
  }
 },
 "nbformat": 4,
 "nbformat_minor": 5
}
